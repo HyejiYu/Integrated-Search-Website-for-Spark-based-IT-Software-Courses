{
  "nbformat": 4,
  "nbformat_minor": 0,
  "metadata": {
    "colab": {
      "provenance": []
    },
    "kernelspec": {
      "name": "python3",
      "display_name": "Python 3"
    },
    "language_info": {
      "name": "python"
    }
  },
  "cells": [
    {
      "cell_type": "code",
      "execution_count": 49,
      "metadata": {
        "colab": {
          "base_uri": "https://localhost:8080/"
        },
        "id": "0slxDliGfY6E",
        "outputId": "5966359d-3db3-419f-c374-0113877b0dbe"
      },
      "outputs": [
        {
          "output_type": "stream",
          "name": "stdout",
          "text": [
            "Requirement already satisfied: pyspark in /usr/local/lib/python3.10/dist-packages (3.5.1)\n",
            "Requirement already satisfied: py4j==0.10.9.7 in /usr/local/lib/python3.10/dist-packages (from pyspark) (0.10.9.7)\n"
          ]
        }
      ],
      "source": [
        "pip install pyspark"
      ]
    },
    {
      "cell_type": "code",
      "source": [
        "from pyspark.sql import SparkSession\n",
        "from pyspark.sql.types import StructType, StructField, StringType, IntegerType\n",
        "\n",
        "# Spark 세션 초기화\n",
        "spark = SparkSession.builder.appName(\"JsonFileRead\").getOrCreate()"
      ],
      "metadata": {
        "id": "OZfpWJNyg7sk"
      },
      "execution_count": 50,
      "outputs": []
    },
    {
      "cell_type": "code",
      "source": [
        "from google.colab import drive\n",
        "drive.mount('/content/drive')"
      ],
      "metadata": {
        "colab": {
          "base_uri": "https://localhost:8080/"
        },
        "id": "s5nZfVRZhHGz",
        "outputId": "23a33629-3d90-44dc-f5d0-20701a6db48d"
      },
      "execution_count": 51,
      "outputs": [
        {
          "output_type": "stream",
          "name": "stdout",
          "text": [
            "Drive already mounted at /content/drive; to attempt to forcibly remount, call drive.mount(\"/content/drive\", force_remount=True).\n"
          ]
        }
      ]
    },
    {
      "cell_type": "code",
      "source": [
        "data = spark.read.option(\"multiline\", \"true\").json(\"/content/drive/MyDrive/KHUDA_DE/KHUDA_DE_project/2405161941_new_fastcampus.json\")\n",
        "data.printSchema()"
      ],
      "metadata": {
        "colab": {
          "base_uri": "https://localhost:8080/"
        },
        "id": "mefsnrY4hNG_",
        "outputId": "97138003-9d15-406a-9d30-b0b55722cb2c"
      },
      "execution_count": 52,
      "outputs": [
        {
          "output_type": "stream",
          "name": "stdout",
          "text": [
            "root\n",
            " |-- new_courses: array (nullable = true)\n",
            " |    |-- element: struct (containsNull = true)\n",
            " |    |    |-- accordion: array (nullable = true)\n",
            " |    |    |    |-- element: array (containsNull = true)\n",
            " |    |    |    |    |-- element: string (containsNull = true)\n",
            " |    |    |-- badge: string (nullable = true)\n",
            " |    |    |-- course_img: string (nullable = true)\n",
            " |    |    |-- course_url: string (nullable = true)\n",
            " |    |    |-- intro: string (nullable = true)\n",
            " |    |    |-- parts: array (nullable = true)\n",
            " |    |    |    |-- element: string (containsNull = true)\n",
            " |    |    |-- regular_price: string (nullable = true)\n",
            " |    |    |-- sale_price: string (nullable = true)\n",
            " |    |    |-- summary: array (nullable = true)\n",
            " |    |    |    |-- element: string (containsNull = true)\n",
            " |    |    |-- tags: array (nullable = true)\n",
            " |    |    |    |-- element: string (containsNull = true)\n",
            " |    |    |-- title: string (nullable = true)\n",
            "\n"
          ]
        }
      ]
    },
    {
      "cell_type": "markdown",
      "source": [
        "**1. course 내부 필드 접근**"
      ],
      "metadata": {
        "id": "yi4-AyV3iWAR"
      }
    },
    {
      "cell_type": "code",
      "source": [
        "from pyspark.sql.functions import explode, col"
      ],
      "metadata": {
        "id": "VfTFt_y8iZwh"
      },
      "execution_count": 53,
      "outputs": []
    },
    {
      "cell_type": "code",
      "source": [
        "# 배열 필드를 explode하여 개별 행으로 확장\n",
        "df = data.select(explode(\"new_courses\").alias(\"new_course\"))\n",
        "\n",
        "# 필요한 필드만 선택 -> 전체 필드 선택\n",
        "df = df.select(\n",
        "    col(\"new_course.title\"),\n",
        "    col(\"new_course.intro\"),\n",
        "    col(\"new_course.badge\"),\n",
        "    col(\"new_course.tags\"),\n",
        "    col(\"new_course.course_img\"),\n",
        "    col(\"new_course.course_url\"),\n",
        "    col(\"new_course.regular_price\"),\n",
        "    col(\"new_course.sale_price\"),\n",
        "    col(\"new_course.summary\"),\n",
        "    col(\"new_course.parts\"),\n",
        "    col(\"new_course.accordion\")\n",
        ")\n",
        "\n",
        "# 결과 출력 (출력 크기 제한)\n",
        "df.show(10)"
      ],
      "metadata": {
        "colab": {
          "base_uri": "https://localhost:8080/"
        },
        "id": "0UrVgBxik31Z",
        "outputId": "098667fc-e899-4e29-ab16-cfccc82c4a4a"
      },
      "execution_count": 54,
      "outputs": [
        {
          "output_type": "stream",
          "name": "stdout",
          "text": [
            "+---------------------------------+----------------------------------+--------+--------------------------------+--------------------+--------------------+-------------+----------+-------------------------------+---------------------------+--------------------------------+\n",
            "|                            title|                             intro|   badge|                            tags|          course_img|          course_url|regular_price|sale_price|                        summary|                      parts|                       accordion|\n",
            "+---------------------------------+----------------------------------+--------+--------------------------------+--------------------+--------------------+-------------+----------+-------------------------------+---------------------------+--------------------------------+\n",
            "|    2024 시그니처 프론트엔드 :...|   현재 FE 개발자에게 요구하는 ...|사전예약| [프론트엔드, 시그니처, 입문,...|https://storage.g...|https://fastcampu...|    653,000원| 190,000원|   [01. 입문-3년차 채용공고 ...|       [Part 1.HTML/CSS/...|    [[기본 정보, | 수강대상\\n...|\n",
            "|   AI 시대 일잘러가 되기 위한 ...|   업무 1도 안해 본 신입부터 일...|사전예약|      [OA, AI, 직장인, 업무자...|https://storage.g...|https://fastcampu...|    890,000원| 326,400원|       [26가지 OA + AI 툴 활...|                         []|        [[Part 1. 엑셀 기초, ...|\n",
            "|   '쉿! 디자이너도 몰래 듣는' ...|  디자인 감각은 타고 나는 게 아...|사전예약|      [에이핫, Ahot, 디자인, ...|https://storage.g...|https://fastcampu...|    435,000원| 234,900원|                             []| [Part1. 오리엔테이션, P...|    [[기본 정보, ∙ 5개 대주제...|\n",
            "|바이트디그리 취득과정 : 파이낸...|현직 금융권 전문가들에게 배우는...|  모집중|[인증과정, 바이트디그리, 인증...|https://storage.g...|https://fastcampu...|  1,300,000원| 700,000원|        [Byte Degree 발급 기...|       [Part 1. Financia...|[[어떤 사람이 수강하면 좋을까...|\n",
            "|바이트디그리 취득과정 : 파이낸...|현직 금융권 전문가들에게 배우는...|  모집중|[인증과정, 바이트디그리, 인증...|https://storage.g...|https://fastcampu...|             |          |                             []|                         []|[[어떤 사람이 수강하면 좋을까...|\n",
            "|      모두를 위한 2024 AI 바이...|      AI 기초 이론부터 API 활용...|사전예약|       [생성형 ai, 생성 ai, C...|https://storage.g...|https://fastcampu...|    700,000원| 239,000원|[상세 커리큘럼.\\n자세한 커리...|                         []|      [[기본 정보, · 약 103시...|\n",
            "|   20만 음악 유튜버 오땡큐의 A...|   AI를 활용한 최상의 음원 퀄리...|사전예약|          [AI노래, SUNOAI, AI...|https://storage.g...|https://fastcampu...|    470,000원| 199,000원|                             []|       [Part1. Orientati...|    [[기본 정보, ∙ 8개 대주제...|\n",
            "| 한 번에 끝내는 컴퓨터 공학 전...|   13과목의 컴퓨터 공학 전공 필...|전체오픈|  [평생소장, 45학점, 프로그래...|https://storage.g...|https://fastcampu...|  1,009,000원| 367,200원|    [01\\n생성 AI 프로덕트 기...|                         []|         [[01 생성형 AI User ...|\n",
            "|       처음 시작하는 AWS : AWS...|근본인 클라우드 컴퓨팅 이론부터...|전체오픈|   [AWS, 클라우드, 클라우드컴...|https://storage.g...|https://fastcampu...|    399,000원| 108,000원|     [01. AWS 입문자를 위한 ...|[Part 1. 클라우드 컴퓨팅...|     [[기본 정보, 1. 3개 대주...|\n",
            "|  생성 AI 서비스 기획과 프로덕...|   실리콘밸리 빅테크 기업 PM 실...|사전예약|       [서비스기획, pm, po, a...|https://storage.g...|https://fastcampu...|    500,000원| 179,000원|    [01\\n글로벌&로컬 AI 서비...|      [Part 01. PM/PO를 ...|        [[01. PM/PO/서비스 기...|\n",
            "+---------------------------------+----------------------------------+--------+--------------------------------+--------------------+--------------------+-------------+----------+-------------------------------+---------------------------+--------------------------------+\n",
            "only showing top 10 rows\n",
            "\n"
          ]
        }
      ]
    },
    {
      "cell_type": "markdown",
      "source": [
        "**2. 숫자: string -> int**"
      ],
      "metadata": {
        "id": "eTJEsFFklqdl"
      }
    },
    {
      "cell_type": "code",
      "source": [
        "from pyspark.sql.functions import regexp_replace"
      ],
      "metadata": {
        "id": "qObLB6JulwaA"
      },
      "execution_count": 55,
      "outputs": []
    },
    {
      "cell_type": "code",
      "source": [
        "df = df.withColumn(\n",
        "    \"regular_price\",\n",
        "    regexp_replace(col(\"regular_price\"), \"[^0-9]\", \"\").cast(\"int\")\n",
        ")"
      ],
      "metadata": {
        "id": "FXwH54LWmBxV"
      },
      "execution_count": 56,
      "outputs": []
    },
    {
      "cell_type": "code",
      "source": [
        "df = df.withColumn(\n",
        "    \"sale_price\",\n",
        "    regexp_replace(col(\"sale_price\"), \"[^0-9]\", \"\").cast(\"int\")\n",
        ")"
      ],
      "metadata": {
        "id": "Ksn9o6Vrl0FE"
      },
      "execution_count": 57,
      "outputs": []
    },
    {
      "cell_type": "code",
      "source": [
        "df.show()"
      ],
      "metadata": {
        "colab": {
          "base_uri": "https://localhost:8080/"
        },
        "id": "h4xAtHNxm36t",
        "outputId": "503dd7c0-ea9e-4df5-d7b8-3e43f93c717a"
      },
      "execution_count": 58,
      "outputs": [
        {
          "output_type": "stream",
          "name": "stdout",
          "text": [
            "+----------------------------------+----------------------------------+--------+--------------------------------+--------------------+--------------------+-------------+----------+--------------------------------+---------------------------+--------------------------------+\n",
            "|                             title|                             intro|   badge|                            tags|          course_img|          course_url|regular_price|sale_price|                         summary|                      parts|                       accordion|\n",
            "+----------------------------------+----------------------------------+--------+--------------------------------+--------------------+--------------------+-------------+----------+--------------------------------+---------------------------+--------------------------------+\n",
            "|     2024 시그니처 프론트엔드 :...|   현재 FE 개발자에게 요구하는 ...|사전예약| [프론트엔드, 시그니처, 입문,...|https://storage.g...|https://fastcampu...|       653000|    190000|    [01. 입문-3년차 채용공고 ...|       [Part 1.HTML/CSS/...|    [[기본 정보, | 수강대상\\n...|\n",
            "|    AI 시대 일잘러가 되기 위한 ...|   업무 1도 안해 본 신입부터 일...|사전예약|      [OA, AI, 직장인, 업무자...|https://storage.g...|https://fastcampu...|       890000|    326400|        [26가지 OA + AI 툴 활...|                         []|        [[Part 1. 엑셀 기초, ...|\n",
            "|    '쉿! 디자이너도 몰래 듣는' ...|  디자인 감각은 타고 나는 게 아...|사전예약|      [에이핫, Ahot, 디자인, ...|https://storage.g...|https://fastcampu...|       435000|    234900|                              []| [Part1. 오리엔테이션, P...|    [[기본 정보, ∙ 5개 대주제...|\n",
            "| 바이트디그리 취득과정 : 파이낸...|현직 금융권 전문가들에게 배우는...|  모집중|[인증과정, 바이트디그리, 인증...|https://storage.g...|https://fastcampu...|      1300000|    700000|         [Byte Degree 발급 기...|       [Part 1. Financia...|[[어떤 사람이 수강하면 좋을까...|\n",
            "| 바이트디그리 취득과정 : 파이낸...|현직 금융권 전문가들에게 배우는...|  모집중|[인증과정, 바이트디그리, 인증...|https://storage.g...|https://fastcampu...|         NULL|      NULL|                              []|                         []|[[어떤 사람이 수강하면 좋을까...|\n",
            "|       모두를 위한 2024 AI 바이...|      AI 기초 이론부터 API 활용...|사전예약|       [생성형 ai, 생성 ai, C...|https://storage.g...|https://fastcampu...|       700000|    239000| [상세 커리큘럼.\\n자세한 커리...|                         []|      [[기본 정보, · 약 103시...|\n",
            "|    20만 음악 유튜버 오땡큐의 A...|   AI를 활용한 최상의 음원 퀄리...|사전예약|          [AI노래, SUNOAI, AI...|https://storage.g...|https://fastcampu...|       470000|    199000|                              []|       [Part1. Orientati...|    [[기본 정보, ∙ 8개 대주제...|\n",
            "|  한 번에 끝내는 컴퓨터 공학 전...|   13과목의 컴퓨터 공학 전공 필...|전체오픈|  [평생소장, 45학점, 프로그래...|https://storage.g...|https://fastcampu...|      1009000|    367200|     [01\\n생성 AI 프로덕트 기...|                         []|         [[01 생성형 AI User ...|\n",
            "|        처음 시작하는 AWS : AWS...|근본인 클라우드 컴퓨팅 이론부터...|전체오픈|   [AWS, 클라우드, 클라우드컴...|https://storage.g...|https://fastcampu...|       399000|    108000|      [01. AWS 입문자를 위한 ...|[Part 1. 클라우드 컴퓨팅...|     [[기본 정보, 1. 3개 대주...|\n",
            "|   생성 AI 서비스 기획과 프로덕...|   실리콘밸리 빅테크 기업 PM 실...|사전예약|       [서비스기획, pm, po, a...|https://storage.g...|https://fastcampu...|       500000|    179000|     [01\\n글로벌&로컬 AI 서비...|      [Part 01. PM/PO를 ...|        [[01. PM/PO/서비스 기...|\n",
            "|  네오아카데미 : 한 번에 끝내는...|     1049개 연습키트. 완케X토뀨...|사전예약|  [완케, 토뀨, 네오아카데미, ...|https://storage.g...|https://fastcampu...|       899000|    289700|[한 번에 끝내는 캐릭터 드로잉...|                         []|     [[기본 정보, · 11개 대주...|\n",
            "|   대기업도 배우는 이승필의 Cha...|대기업 원픽 이승필의 실무밀착형...|사전예약|          [ChatGPT, GPT, 챗지...|https://storage.g...|https://fastcampu...|       350000|    139000|  [업무 속도 2배, 당장 써먹는...|       [Part 1. ChatGPT ...|      [[01. AI 비서와 함께 업...|\n",
            "|    AI로 끝내는 디지털 마케팅 :...|   AI 활용한 콘텐츠 기획부터 제...|사전예약|   [AI, 디지털 마케팅, 콘텐츠...|https://storage.g...|https://fastcampu...|       320000|    179000|     [AI 콘텐츠 기획 & 제작 &...|   [Part 1. AI와 마케팅,...|    [[기본 정보, ㆍ약 18시간 ...|\n",
            "| 유순정의 스마트폰 사진·영상 클...|    오직 스마트폰 300%만으로 기...|사전예약|[스마트폰, 사진촬영, 사진보정...|https://storage.g...|https://fastcampu...|       370000|    137000|  [01 스마트폰으로 디카 수준 ...|                         []|    [[기본 정보, · 8개 대주제...|\n",
            "|       Chat GPT로 시작하는 스마...|     AI 이커머스 전문가가 AI를 ...|사전예약|  [AI, 스마트스토어, 이커머스...|https://storage.g...|https://fastcampu...|       256000|    169000|  [01. 이커머스 전문가에게 배...|  [Part1. AI와 이커머스,...|     [[기본 정보, · 17개 대주...|\n",
            "|   랭체인 입문 : 5개 프로젝트로...| 수익화 가능한 웹 서비스부터 스...|사전예약|         [랭체인, langchain, ...|https://storage.g...|https://fastcampu...|       490000|    149000|   [1\\n복잡한 코드 작업없이\\n...|[Part 1. 기본기 돌아보기...|    [[기본 정보, ∙ 5개 대주제...|\n",
            "|네오아카데미: 전방향 미소녀완성...| 미소녀를 그리고 싶은 모든 그림...|전체오픈|  [미소녀, 얼굴, 포즈, 옷주름...|https://storage.g...|https://fastcampu...|         NULL|      NULL|   [01. 일러스트 극악 구간 강...|                         []|     [[기본 정보, · 31개 대주...|\n",
            "|       [EVENT] 신규 강의 런칭 특가| 가장 트렌디한 주제와 풍부한 혜...|        |   [신규, 런칭, 특가, 이벤트,...|https://storage.g...|https://fastcampu...|         NULL|      NULL| [재무제표 분석의 첫 시작, 권...|                         []|    [[재무제표 분석 기초 STUD...|\n",
            "+----------------------------------+----------------------------------+--------+--------------------------------+--------------------+--------------------+-------------+----------+--------------------------------+---------------------------+--------------------------------+\n",
            "\n"
          ]
        }
      ]
    },
    {
      "cell_type": "markdown",
      "source": [
        "**3. 숫자 필드 NULL 제거**"
      ],
      "metadata": {
        "id": "fB1VEr5GmNex"
      }
    },
    {
      "cell_type": "code",
      "source": [
        "price_df = df.na.drop(subset=[\"regular_price\",\"sale_price\"])"
      ],
      "metadata": {
        "id": "FsRY_LzgmTcp"
      },
      "execution_count": 59,
      "outputs": []
    },
    {
      "cell_type": "code",
      "source": [
        "price_df.show()"
      ],
      "metadata": {
        "colab": {
          "base_uri": "https://localhost:8080/"
        },
        "id": "Ln_jpZBMmf0Z",
        "outputId": "f534a73e-bb64-44dd-984c-bb7548899f92"
      },
      "execution_count": 60,
      "outputs": [
        {
          "output_type": "stream",
          "name": "stdout",
          "text": [
            "+---------------------------------+----------------------------------+--------+--------------------------------+--------------------+--------------------+-------------+----------+--------------------------------+---------------------------+--------------------------------+\n",
            "|                            title|                             intro|   badge|                            tags|          course_img|          course_url|regular_price|sale_price|                         summary|                      parts|                       accordion|\n",
            "+---------------------------------+----------------------------------+--------+--------------------------------+--------------------+--------------------+-------------+----------+--------------------------------+---------------------------+--------------------------------+\n",
            "|    2024 시그니처 프론트엔드 :...|   현재 FE 개발자에게 요구하는 ...|사전예약| [프론트엔드, 시그니처, 입문,...|https://storage.g...|https://fastcampu...|       653000|    190000|    [01. 입문-3년차 채용공고 ...|       [Part 1.HTML/CSS/...|    [[기본 정보, | 수강대상\\n...|\n",
            "|   AI 시대 일잘러가 되기 위한 ...|   업무 1도 안해 본 신입부터 일...|사전예약|      [OA, AI, 직장인, 업무자...|https://storage.g...|https://fastcampu...|       890000|    326400|        [26가지 OA + AI 툴 활...|                         []|        [[Part 1. 엑셀 기초, ...|\n",
            "|   '쉿! 디자이너도 몰래 듣는' ...|  디자인 감각은 타고 나는 게 아...|사전예약|      [에이핫, Ahot, 디자인, ...|https://storage.g...|https://fastcampu...|       435000|    234900|                              []| [Part1. 오리엔테이션, P...|    [[기본 정보, ∙ 5개 대주제...|\n",
            "|바이트디그리 취득과정 : 파이낸...|현직 금융권 전문가들에게 배우는...|  모집중|[인증과정, 바이트디그리, 인증...|https://storage.g...|https://fastcampu...|      1300000|    700000|         [Byte Degree 발급 기...|       [Part 1. Financia...|[[어떤 사람이 수강하면 좋을까...|\n",
            "|      모두를 위한 2024 AI 바이...|      AI 기초 이론부터 API 활용...|사전예약|       [생성형 ai, 생성 ai, C...|https://storage.g...|https://fastcampu...|       700000|    239000| [상세 커리큘럼.\\n자세한 커리...|                         []|      [[기본 정보, · 약 103시...|\n",
            "|   20만 음악 유튜버 오땡큐의 A...|   AI를 활용한 최상의 음원 퀄리...|사전예약|          [AI노래, SUNOAI, AI...|https://storage.g...|https://fastcampu...|       470000|    199000|                              []|       [Part1. Orientati...|    [[기본 정보, ∙ 8개 대주제...|\n",
            "| 한 번에 끝내는 컴퓨터 공학 전...|   13과목의 컴퓨터 공학 전공 필...|전체오픈|  [평생소장, 45학점, 프로그래...|https://storage.g...|https://fastcampu...|      1009000|    367200|     [01\\n생성 AI 프로덕트 기...|                         []|         [[01 생성형 AI User ...|\n",
            "|       처음 시작하는 AWS : AWS...|근본인 클라우드 컴퓨팅 이론부터...|전체오픈|   [AWS, 클라우드, 클라우드컴...|https://storage.g...|https://fastcampu...|       399000|    108000|      [01. AWS 입문자를 위한 ...|[Part 1. 클라우드 컴퓨팅...|     [[기본 정보, 1. 3개 대주...|\n",
            "|  생성 AI 서비스 기획과 프로덕...|   실리콘밸리 빅테크 기업 PM 실...|사전예약|       [서비스기획, pm, po, a...|https://storage.g...|https://fastcampu...|       500000|    179000|     [01\\n글로벌&로컬 AI 서비...|      [Part 01. PM/PO를 ...|        [[01. PM/PO/서비스 기...|\n",
            "| 네오아카데미 : 한 번에 끝내는...|     1049개 연습키트. 완케X토뀨...|사전예약|  [완케, 토뀨, 네오아카데미, ...|https://storage.g...|https://fastcampu...|       899000|    289700|[한 번에 끝내는 캐릭터 드로잉...|                         []|     [[기본 정보, · 11개 대주...|\n",
            "|  대기업도 배우는 이승필의 Cha...|대기업 원픽 이승필의 실무밀착형...|사전예약|          [ChatGPT, GPT, 챗지...|https://storage.g...|https://fastcampu...|       350000|    139000|  [업무 속도 2배, 당장 써먹는...|       [Part 1. ChatGPT ...|      [[01. AI 비서와 함께 업...|\n",
            "|   AI로 끝내는 디지털 마케팅 :...|   AI 활용한 콘텐츠 기획부터 제...|사전예약|   [AI, 디지털 마케팅, 콘텐츠...|https://storage.g...|https://fastcampu...|       320000|    179000|     [AI 콘텐츠 기획 & 제작 &...|   [Part 1. AI와 마케팅,...|    [[기본 정보, ㆍ약 18시간 ...|\n",
            "|유순정의 스마트폰 사진·영상 클...|    오직 스마트폰 300%만으로 기...|사전예약|[스마트폰, 사진촬영, 사진보정...|https://storage.g...|https://fastcampu...|       370000|    137000|  [01 스마트폰으로 디카 수준 ...|                         []|    [[기본 정보, · 8개 대주제...|\n",
            "|      Chat GPT로 시작하는 스마...|     AI 이커머스 전문가가 AI를 ...|사전예약|  [AI, 스마트스토어, 이커머스...|https://storage.g...|https://fastcampu...|       256000|    169000|  [01. 이커머스 전문가에게 배...|  [Part1. AI와 이커머스,...|     [[기본 정보, · 17개 대주...|\n",
            "|  랭체인 입문 : 5개 프로젝트로...| 수익화 가능한 웹 서비스부터 스...|사전예약|         [랭체인, langchain, ...|https://storage.g...|https://fastcampu...|       490000|    149000|   [1\\n복잡한 코드 작업없이\\n...|[Part 1. 기본기 돌아보기...|    [[기본 정보, ∙ 5개 대주제...|\n",
            "+---------------------------------+----------------------------------+--------+--------------------------------+--------------------+--------------------+-------------+----------+--------------------------------+---------------------------+--------------------------------+\n",
            "\n"
          ]
        }
      ]
    },
    {
      "cell_type": "markdown",
      "source": [
        "price_df: 숫자 필드가 NULL인 행 제거한 df"
      ],
      "metadata": {
        "id": "8CentqLknJlL"
      }
    },
    {
      "cell_type": "markdown",
      "source": [
        "**3-1. 할인율 col 추가**"
      ],
      "metadata": {
        "id": "UbgZAyGVng7Y"
      }
    },
    {
      "cell_type": "code",
      "source": [
        "from pyspark.sql.functions import expr"
      ],
      "metadata": {
        "id": "HCmEYgNwoqD0"
      },
      "execution_count": 61,
      "outputs": []
    },
    {
      "cell_type": "code",
      "source": [
        "# 할인율 계산 및 데이터프레임에 추가\n",
        "price_df = price_df.withColumn(\"discount_rate\", expr(\"((regular_price - sale_price) / regular_price) * 100\"))"
      ],
      "metadata": {
        "id": "tDPntNGqnReA"
      },
      "execution_count": 62,
      "outputs": []
    },
    {
      "cell_type": "code",
      "source": [
        "price_df.show()"
      ],
      "metadata": {
        "colab": {
          "base_uri": "https://localhost:8080/"
        },
        "id": "NiUZTSgQotly",
        "outputId": "8775bb56-aa5c-46ed-db9f-8feb5292b8cd"
      },
      "execution_count": 63,
      "outputs": [
        {
          "output_type": "stream",
          "name": "stdout",
          "text": [
            "+---------------------------------+----------------------------------+--------+--------------------------------+--------------------+--------------------+-------------+----------+--------------------------------+---------------------------+--------------------------------+------------------+\n",
            "|                            title|                             intro|   badge|                            tags|          course_img|          course_url|regular_price|sale_price|                         summary|                      parts|                       accordion|     discount_rate|\n",
            "+---------------------------------+----------------------------------+--------+--------------------------------+--------------------+--------------------+-------------+----------+--------------------------------+---------------------------+--------------------------------+------------------+\n",
            "|    2024 시그니처 프론트엔드 :...|   현재 FE 개발자에게 요구하는 ...|사전예약| [프론트엔드, 시그니처, 입문,...|https://storage.g...|https://fastcampu...|       653000|    190000|    [01. 입문-3년차 채용공고 ...|       [Part 1.HTML/CSS/...|    [[기본 정보, | 수강대상\\n...| 70.90352220520674|\n",
            "|   AI 시대 일잘러가 되기 위한 ...|   업무 1도 안해 본 신입부터 일...|사전예약|      [OA, AI, 직장인, 업무자...|https://storage.g...|https://fastcampu...|       890000|    326400|        [26가지 OA + AI 툴 활...|                         []|        [[Part 1. 엑셀 기초, ...| 63.32584269662921|\n",
            "|   '쉿! 디자이너도 몰래 듣는' ...|  디자인 감각은 타고 나는 게 아...|사전예약|      [에이핫, Ahot, 디자인, ...|https://storage.g...|https://fastcampu...|       435000|    234900|                              []| [Part1. 오리엔테이션, P...|    [[기본 정보, ∙ 5개 대주제...|              46.0|\n",
            "|바이트디그리 취득과정 : 파이낸...|현직 금융권 전문가들에게 배우는...|  모집중|[인증과정, 바이트디그리, 인증...|https://storage.g...|https://fastcampu...|      1300000|    700000|         [Byte Degree 발급 기...|       [Part 1. Financia...|[[어떤 사람이 수강하면 좋을까...| 46.15384615384615|\n",
            "|      모두를 위한 2024 AI 바이...|      AI 기초 이론부터 API 활용...|사전예약|       [생성형 ai, 생성 ai, C...|https://storage.g...|https://fastcampu...|       700000|    239000| [상세 커리큘럼.\\n자세한 커리...|                         []|      [[기본 정보, · 약 103시...| 65.85714285714286|\n",
            "|   20만 음악 유튜버 오땡큐의 A...|   AI를 활용한 최상의 음원 퀄리...|사전예약|          [AI노래, SUNOAI, AI...|https://storage.g...|https://fastcampu...|       470000|    199000|                              []|       [Part1. Orientati...|    [[기본 정보, ∙ 8개 대주제...|57.659574468085104|\n",
            "| 한 번에 끝내는 컴퓨터 공학 전...|   13과목의 컴퓨터 공학 전공 필...|전체오픈|  [평생소장, 45학점, 프로그래...|https://storage.g...|https://fastcampu...|      1009000|    367200|     [01\\n생성 AI 프로덕트 기...|                         []|         [[01 생성형 AI User ...| 63.60753221010902|\n",
            "|       처음 시작하는 AWS : AWS...|근본인 클라우드 컴퓨팅 이론부터...|전체오픈|   [AWS, 클라우드, 클라우드컴...|https://storage.g...|https://fastcampu...|       399000|    108000|      [01. AWS 입문자를 위한 ...|[Part 1. 클라우드 컴퓨팅...|     [[기본 정보, 1. 3개 대주...| 72.93233082706767|\n",
            "|  생성 AI 서비스 기획과 프로덕...|   실리콘밸리 빅테크 기업 PM 실...|사전예약|       [서비스기획, pm, po, a...|https://storage.g...|https://fastcampu...|       500000|    179000|     [01\\n글로벌&로컬 AI 서비...|      [Part 01. PM/PO를 ...|        [[01. PM/PO/서비스 기...|              64.2|\n",
            "| 네오아카데미 : 한 번에 끝내는...|     1049개 연습키트. 완케X토뀨...|사전예약|  [완케, 토뀨, 네오아카데미, ...|https://storage.g...|https://fastcampu...|       899000|    289700|[한 번에 끝내는 캐릭터 드로잉...|                         []|     [[기본 정보, · 11개 대주...| 67.77530589543937|\n",
            "|  대기업도 배우는 이승필의 Cha...|대기업 원픽 이승필의 실무밀착형...|사전예약|          [ChatGPT, GPT, 챗지...|https://storage.g...|https://fastcampu...|       350000|    139000|  [업무 속도 2배, 당장 써먹는...|       [Part 1. ChatGPT ...|      [[01. AI 비서와 함께 업...|60.285714285714285|\n",
            "|   AI로 끝내는 디지털 마케팅 :...|   AI 활용한 콘텐츠 기획부터 제...|사전예약|   [AI, 디지털 마케팅, 콘텐츠...|https://storage.g...|https://fastcampu...|       320000|    179000|     [AI 콘텐츠 기획 & 제작 &...|   [Part 1. AI와 마케팅,...|    [[기본 정보, ㆍ약 18시간 ...|           44.0625|\n",
            "|유순정의 스마트폰 사진·영상 클...|    오직 스마트폰 300%만으로 기...|사전예약|[스마트폰, 사진촬영, 사진보정...|https://storage.g...|https://fastcampu...|       370000|    137000|  [01 스마트폰으로 디카 수준 ...|                         []|    [[기본 정보, · 8개 대주제...|62.972972972972975|\n",
            "|      Chat GPT로 시작하는 스마...|     AI 이커머스 전문가가 AI를 ...|사전예약|  [AI, 스마트스토어, 이커머스...|https://storage.g...|https://fastcampu...|       256000|    169000|  [01. 이커머스 전문가에게 배...|  [Part1. AI와 이커머스,...|     [[기본 정보, · 17개 대주...|         33.984375|\n",
            "|  랭체인 입문 : 5개 프로젝트로...| 수익화 가능한 웹 서비스부터 스...|사전예약|         [랭체인, langchain, ...|https://storage.g...|https://fastcampu...|       490000|    149000|   [1\\n복잡한 코드 작업없이\\n...|[Part 1. 기본기 돌아보기...|    [[기본 정보, ∙ 5개 대주제...| 69.59183673469389|\n",
            "+---------------------------------+----------------------------------+--------+--------------------------------+--------------------+--------------------+-------------+----------+--------------------------------+---------------------------+--------------------------------+------------------+\n",
            "\n"
          ]
        }
      ]
    },
    {
      "cell_type": "markdown",
      "source": [
        "**3-2. 할인율 높은 순으로 정렬**"
      ],
      "metadata": {
        "id": "xIvrl7xtqE96"
      }
    },
    {
      "cell_type": "code",
      "source": [
        "# 내림차순 정렬 -> 할인율 높은 순서대로 정렬\n",
        "sorted_discount_rate_price_df = price_df.orderBy(col(\"discount_rate\").desc())"
      ],
      "metadata": {
        "id": "PzzsmE69pJ8K"
      },
      "execution_count": 64,
      "outputs": []
    },
    {
      "cell_type": "code",
      "source": [
        "sorted_discount_rate_price_df.show()"
      ],
      "metadata": {
        "colab": {
          "base_uri": "https://localhost:8080/"
        },
        "id": "07VamCFlpyp9",
        "outputId": "e214bd55-896b-4096-e371-d3805f539409"
      },
      "execution_count": 65,
      "outputs": [
        {
          "output_type": "stream",
          "name": "stdout",
          "text": [
            "+---------------------------------+----------------------------------+--------+--------------------------------+--------------------+--------------------+-------------+----------+--------------------------------+---------------------------+--------------------------------+------------------+\n",
            "|                            title|                             intro|   badge|                            tags|          course_img|          course_url|regular_price|sale_price|                         summary|                      parts|                       accordion|     discount_rate|\n",
            "+---------------------------------+----------------------------------+--------+--------------------------------+--------------------+--------------------+-------------+----------+--------------------------------+---------------------------+--------------------------------+------------------+\n",
            "|       처음 시작하는 AWS : AWS...|근본인 클라우드 컴퓨팅 이론부터...|전체오픈|   [AWS, 클라우드, 클라우드컴...|https://storage.g...|https://fastcampu...|       399000|    108000|      [01. AWS 입문자를 위한 ...|[Part 1. 클라우드 컴퓨팅...|     [[기본 정보, 1. 3개 대주...| 72.93233082706767|\n",
            "|    2024 시그니처 프론트엔드 :...|   현재 FE 개발자에게 요구하는 ...|사전예약| [프론트엔드, 시그니처, 입문,...|https://storage.g...|https://fastcampu...|       653000|    190000|    [01. 입문-3년차 채용공고 ...|       [Part 1.HTML/CSS/...|    [[기본 정보, | 수강대상\\n...| 70.90352220520674|\n",
            "|  랭체인 입문 : 5개 프로젝트로...| 수익화 가능한 웹 서비스부터 스...|사전예약|         [랭체인, langchain, ...|https://storage.g...|https://fastcampu...|       490000|    149000|   [1\\n복잡한 코드 작업없이\\n...|[Part 1. 기본기 돌아보기...|    [[기본 정보, ∙ 5개 대주제...| 69.59183673469389|\n",
            "| 네오아카데미 : 한 번에 끝내는...|     1049개 연습키트. 완케X토뀨...|사전예약|  [완케, 토뀨, 네오아카데미, ...|https://storage.g...|https://fastcampu...|       899000|    289700|[한 번에 끝내는 캐릭터 드로잉...|                         []|     [[기본 정보, · 11개 대주...| 67.77530589543937|\n",
            "|      모두를 위한 2024 AI 바이...|      AI 기초 이론부터 API 활용...|사전예약|       [생성형 ai, 생성 ai, C...|https://storage.g...|https://fastcampu...|       700000|    239000| [상세 커리큘럼.\\n자세한 커리...|                         []|      [[기본 정보, · 약 103시...| 65.85714285714286|\n",
            "|  생성 AI 서비스 기획과 프로덕...|   실리콘밸리 빅테크 기업 PM 실...|사전예약|       [서비스기획, pm, po, a...|https://storage.g...|https://fastcampu...|       500000|    179000|     [01\\n글로벌&로컬 AI 서비...|      [Part 01. PM/PO를 ...|        [[01. PM/PO/서비스 기...|              64.2|\n",
            "| 한 번에 끝내는 컴퓨터 공학 전...|   13과목의 컴퓨터 공학 전공 필...|전체오픈|  [평생소장, 45학점, 프로그래...|https://storage.g...|https://fastcampu...|      1009000|    367200|     [01\\n생성 AI 프로덕트 기...|                         []|         [[01 생성형 AI User ...| 63.60753221010902|\n",
            "|   AI 시대 일잘러가 되기 위한 ...|   업무 1도 안해 본 신입부터 일...|사전예약|      [OA, AI, 직장인, 업무자...|https://storage.g...|https://fastcampu...|       890000|    326400|        [26가지 OA + AI 툴 활...|                         []|        [[Part 1. 엑셀 기초, ...| 63.32584269662921|\n",
            "|유순정의 스마트폰 사진·영상 클...|    오직 스마트폰 300%만으로 기...|사전예약|[스마트폰, 사진촬영, 사진보정...|https://storage.g...|https://fastcampu...|       370000|    137000|  [01 스마트폰으로 디카 수준 ...|                         []|    [[기본 정보, · 8개 대주제...|62.972972972972975|\n",
            "|  대기업도 배우는 이승필의 Cha...|대기업 원픽 이승필의 실무밀착형...|사전예약|          [ChatGPT, GPT, 챗지...|https://storage.g...|https://fastcampu...|       350000|    139000|  [업무 속도 2배, 당장 써먹는...|       [Part 1. ChatGPT ...|      [[01. AI 비서와 함께 업...|60.285714285714285|\n",
            "|   20만 음악 유튜버 오땡큐의 A...|   AI를 활용한 최상의 음원 퀄리...|사전예약|          [AI노래, SUNOAI, AI...|https://storage.g...|https://fastcampu...|       470000|    199000|                              []|       [Part1. Orientati...|    [[기본 정보, ∙ 8개 대주제...|57.659574468085104|\n",
            "|바이트디그리 취득과정 : 파이낸...|현직 금융권 전문가들에게 배우는...|  모집중|[인증과정, 바이트디그리, 인증...|https://storage.g...|https://fastcampu...|      1300000|    700000|         [Byte Degree 발급 기...|       [Part 1. Financia...|[[어떤 사람이 수강하면 좋을까...| 46.15384615384615|\n",
            "|   '쉿! 디자이너도 몰래 듣는' ...|  디자인 감각은 타고 나는 게 아...|사전예약|      [에이핫, Ahot, 디자인, ...|https://storage.g...|https://fastcampu...|       435000|    234900|                              []| [Part1. 오리엔테이션, P...|    [[기본 정보, ∙ 5개 대주제...|              46.0|\n",
            "|   AI로 끝내는 디지털 마케팅 :...|   AI 활용한 콘텐츠 기획부터 제...|사전예약|   [AI, 디지털 마케팅, 콘텐츠...|https://storage.g...|https://fastcampu...|       320000|    179000|     [AI 콘텐츠 기획 & 제작 &...|   [Part 1. AI와 마케팅,...|    [[기본 정보, ㆍ약 18시간 ...|           44.0625|\n",
            "|      Chat GPT로 시작하는 스마...|     AI 이커머스 전문가가 AI를 ...|사전예약|  [AI, 스마트스토어, 이커머스...|https://storage.g...|https://fastcampu...|       256000|    169000|  [01. 이커머스 전문가에게 배...|  [Part1. AI와 이커머스,...|     [[기본 정보, · 17개 대주...|         33.984375|\n",
            "+---------------------------------+----------------------------------+--------+--------------------------------+--------------------+--------------------+-------------+----------+--------------------------------+---------------------------+--------------------------------+------------------+\n",
            "\n"
          ]
        }
      ]
    },
    {
      "cell_type": "markdown",
      "source": [
        "**3-3. 가격 낮은 순으로 정렬**"
      ],
      "metadata": {
        "id": "a_ZNCyOAqMkI"
      }
    },
    {
      "cell_type": "code",
      "source": [
        "# 오름차순 정렬 -> 가격 낮은 순서대로 정렬\n",
        "sorted_price_df = price_df.orderBy(col(\"sale_price\"))"
      ],
      "metadata": {
        "id": "8471ZuIeqLtq"
      },
      "execution_count": 66,
      "outputs": []
    },
    {
      "cell_type": "code",
      "source": [
        "sorted_price_df.show()"
      ],
      "metadata": {
        "colab": {
          "base_uri": "https://localhost:8080/"
        },
        "id": "W3_OoIUeqkc5",
        "outputId": "c7707630-0d1c-463e-cae8-55f540a46727"
      },
      "execution_count": 67,
      "outputs": [
        {
          "output_type": "stream",
          "name": "stdout",
          "text": [
            "+---------------------------------+----------------------------------+--------+--------------------------------+--------------------+--------------------+-------------+----------+--------------------------------+---------------------------+--------------------------------+------------------+\n",
            "|                            title|                             intro|   badge|                            tags|          course_img|          course_url|regular_price|sale_price|                         summary|                      parts|                       accordion|     discount_rate|\n",
            "+---------------------------------+----------------------------------+--------+--------------------------------+--------------------+--------------------+-------------+----------+--------------------------------+---------------------------+--------------------------------+------------------+\n",
            "|       처음 시작하는 AWS : AWS...|근본인 클라우드 컴퓨팅 이론부터...|전체오픈|   [AWS, 클라우드, 클라우드컴...|https://storage.g...|https://fastcampu...|       399000|    108000|      [01. AWS 입문자를 위한 ...|[Part 1. 클라우드 컴퓨팅...|     [[기본 정보, 1. 3개 대주...| 72.93233082706767|\n",
            "|유순정의 스마트폰 사진·영상 클...|    오직 스마트폰 300%만으로 기...|사전예약|[스마트폰, 사진촬영, 사진보정...|https://storage.g...|https://fastcampu...|       370000|    137000|  [01 스마트폰으로 디카 수준 ...|                         []|    [[기본 정보, · 8개 대주제...|62.972972972972975|\n",
            "|  대기업도 배우는 이승필의 Cha...|대기업 원픽 이승필의 실무밀착형...|사전예약|          [ChatGPT, GPT, 챗지...|https://storage.g...|https://fastcampu...|       350000|    139000|  [업무 속도 2배, 당장 써먹는...|       [Part 1. ChatGPT ...|      [[01. AI 비서와 함께 업...|60.285714285714285|\n",
            "|  랭체인 입문 : 5개 프로젝트로...| 수익화 가능한 웹 서비스부터 스...|사전예약|         [랭체인, langchain, ...|https://storage.g...|https://fastcampu...|       490000|    149000|   [1\\n복잡한 코드 작업없이\\n...|[Part 1. 기본기 돌아보기...|    [[기본 정보, ∙ 5개 대주제...| 69.59183673469389|\n",
            "|      Chat GPT로 시작하는 스마...|     AI 이커머스 전문가가 AI를 ...|사전예약|  [AI, 스마트스토어, 이커머스...|https://storage.g...|https://fastcampu...|       256000|    169000|  [01. 이커머스 전문가에게 배...|  [Part1. AI와 이커머스,...|     [[기본 정보, · 17개 대주...|         33.984375|\n",
            "|  생성 AI 서비스 기획과 프로덕...|   실리콘밸리 빅테크 기업 PM 실...|사전예약|       [서비스기획, pm, po, a...|https://storage.g...|https://fastcampu...|       500000|    179000|     [01\\n글로벌&로컬 AI 서비...|      [Part 01. PM/PO를 ...|        [[01. PM/PO/서비스 기...|              64.2|\n",
            "|   AI로 끝내는 디지털 마케팅 :...|   AI 활용한 콘텐츠 기획부터 제...|사전예약|   [AI, 디지털 마케팅, 콘텐츠...|https://storage.g...|https://fastcampu...|       320000|    179000|     [AI 콘텐츠 기획 & 제작 &...|   [Part 1. AI와 마케팅,...|    [[기본 정보, ㆍ약 18시간 ...|           44.0625|\n",
            "|    2024 시그니처 프론트엔드 :...|   현재 FE 개발자에게 요구하는 ...|사전예약| [프론트엔드, 시그니처, 입문,...|https://storage.g...|https://fastcampu...|       653000|    190000|    [01. 입문-3년차 채용공고 ...|       [Part 1.HTML/CSS/...|    [[기본 정보, | 수강대상\\n...| 70.90352220520674|\n",
            "|   20만 음악 유튜버 오땡큐의 A...|   AI를 활용한 최상의 음원 퀄리...|사전예약|          [AI노래, SUNOAI, AI...|https://storage.g...|https://fastcampu...|       470000|    199000|                              []|       [Part1. Orientati...|    [[기본 정보, ∙ 8개 대주제...|57.659574468085104|\n",
            "|   '쉿! 디자이너도 몰래 듣는' ...|  디자인 감각은 타고 나는 게 아...|사전예약|      [에이핫, Ahot, 디자인, ...|https://storage.g...|https://fastcampu...|       435000|    234900|                              []| [Part1. 오리엔테이션, P...|    [[기본 정보, ∙ 5개 대주제...|              46.0|\n",
            "|      모두를 위한 2024 AI 바이...|      AI 기초 이론부터 API 활용...|사전예약|       [생성형 ai, 생성 ai, C...|https://storage.g...|https://fastcampu...|       700000|    239000| [상세 커리큘럼.\\n자세한 커리...|                         []|      [[기본 정보, · 약 103시...| 65.85714285714286|\n",
            "| 네오아카데미 : 한 번에 끝내는...|     1049개 연습키트. 완케X토뀨...|사전예약|  [완케, 토뀨, 네오아카데미, ...|https://storage.g...|https://fastcampu...|       899000|    289700|[한 번에 끝내는 캐릭터 드로잉...|                         []|     [[기본 정보, · 11개 대주...| 67.77530589543937|\n",
            "|   AI 시대 일잘러가 되기 위한 ...|   업무 1도 안해 본 신입부터 일...|사전예약|      [OA, AI, 직장인, 업무자...|https://storage.g...|https://fastcampu...|       890000|    326400|        [26가지 OA + AI 툴 활...|                         []|        [[Part 1. 엑셀 기초, ...| 63.32584269662921|\n",
            "| 한 번에 끝내는 컴퓨터 공학 전...|   13과목의 컴퓨터 공학 전공 필...|전체오픈|  [평생소장, 45학점, 프로그래...|https://storage.g...|https://fastcampu...|      1009000|    367200|     [01\\n생성 AI 프로덕트 기...|                         []|         [[01 생성형 AI User ...| 63.60753221010902|\n",
            "|바이트디그리 취득과정 : 파이낸...|현직 금융권 전문가들에게 배우는...|  모집중|[인증과정, 바이트디그리, 인증...|https://storage.g...|https://fastcampu...|      1300000|    700000|         [Byte Degree 발급 기...|       [Part 1. Financia...|[[어떤 사람이 수강하면 좋을까...| 46.15384615384615|\n",
            "+---------------------------------+----------------------------------+--------+--------------------------------+--------------------+--------------------+-------------+----------+--------------------------------+---------------------------+--------------------------------+------------------+\n",
            "\n"
          ]
        }
      ]
    },
    {
      "cell_type": "markdown",
      "source": [
        "**4. 단어 검색**"
      ],
      "metadata": {
        "id": "oExNbcqkr_hB"
      }
    },
    {
      "cell_type": "code",
      "source": [
        "# 필터링할 키워드 정의\n",
        "keyword = \"프론트엔드\""
      ],
      "metadata": {
        "id": "9PFoRzVssCik"
      },
      "execution_count": 68,
      "outputs": []
    },
    {
      "cell_type": "code",
      "source": [
        "from pyspark.sql.functions import array_contains"
      ],
      "metadata": {
        "id": "2UfUAcfwsaBm"
      },
      "execution_count": 69,
      "outputs": []
    },
    {
      "cell_type": "code",
      "source": [
        "# accordion은 2차원 배열 -> accordion 배열 평탄화\n",
        "df_flattened = df.withColumn(\"accordion\", explode(\"accordion\"))"
      ],
      "metadata": {
        "id": "9aLP5HkEtWuF"
      },
      "execution_count": 70,
      "outputs": []
    },
    {
      "cell_type": "code",
      "source": [
        "df_flattened.show()"
      ],
      "metadata": {
        "colab": {
          "base_uri": "https://localhost:8080/"
        },
        "id": "nqGy1ickt150",
        "outputId": "be6c007e-ec82-4802-923f-78f107106587"
      },
      "execution_count": 72,
      "outputs": [
        {
          "output_type": "stream",
          "name": "stdout",
          "text": [
            "+-----------------------------+-------------------------------+--------+-------------------------------+--------------------+--------------------+-------------+----------+----------------------------+--------------------+-----------------------------+\n",
            "|                        title|                          intro|   badge|                           tags|          course_img|          course_url|regular_price|sale_price|                     summary|               parts|                    accordion|\n",
            "+-----------------------------+-------------------------------+--------+-------------------------------+--------------------+--------------------+-------------+----------+----------------------------+--------------------+-----------------------------+\n",
            "|2024 시그니처 프론트엔드 :...|현재 FE 개발자에게 요구하는 ...|사전예약|[프론트엔드, 시그니처, 입문,...|https://storage.g...|https://fastcampu...|       653000|    190000|[01. 입문-3년차 채용공고 ...|[Part 1.HTML/CSS/...|[기본 정보, | 수강대상\\n입...|\n",
            "|2024 시그니처 프론트엔드 :...|현재 FE 개발자에게 요구하는 ...|사전예약|[프론트엔드, 시그니처, 입문,...|https://storage.g...|https://fastcampu...|       653000|    190000|[01. 입문-3년차 채용공고 ...|[Part 1.HTML/CSS/...| [강의 특징, ∙ 수강료 1회 ...|\n",
            "|2024 시그니처 프론트엔드 :...|현재 FE 개발자에게 요구하는 ...|사전예약|[프론트엔드, 시그니처, 입문,...|https://storage.g...|https://fastcampu...|       653000|    190000|[01. 입문-3년차 채용공고 ...|[Part 1.HTML/CSS/...|   [01. 개요, ∙ 첫 인사 및...|\n",
            "|2024 시그니처 프론트엔드 :...|현재 FE 개발자에게 요구하는 ...|사전예약|[프론트엔드, 시그니처, 입문,...|https://storage.g...|https://fastcampu...|       653000|    190000|[01. 입문-3년차 채용공고 ...|[Part 1.HTML/CSS/...|       [02. VSCode, ∙ 설치...|\n",
            "|2024 시그니처 프론트엔드 :...|현재 FE 개발자에게 요구하는 ...|사전예약|[프론트엔드, 시그니처, 입문,...|https://storage.g...|https://fastcampu...|       653000|    190000|[01. 입문-3년차 채용공고 ...|[Part 1.HTML/CSS/...|  [03. 무작정 시작하기, ∙ ...|\n",
            "|2024 시그니처 프론트엔드 :...|현재 FE 개발자에게 요구하는 ...|사전예약|[프론트엔드, 시그니처, 입문,...|https://storage.g...|https://fastcampu...|       653000|    190000|[01. 입문-3년차 채용공고 ...|[Part 1.HTML/CSS/...|  [04. 웹에서 시작하기, ∙ ...|\n",
            "|2024 시그니처 프론트엔드 :...|현재 FE 개발자에게 요구하는 ...|사전예약|[프론트엔드, 시그니처, 입문,...|https://storage.g...|https://fastcampu...|       653000|    190000|[01. 입문-3년차 채용공고 ...|[Part 1.HTML/CSS/...|      [05. HTML 개요, ∙ 기...|\n",
            "|2024 시그니처 프론트엔드 :...|현재 FE 개발자에게 요구하는 ...|사전예약|[프론트엔드, 시그니처, 입문,...|https://storage.g...|https://fastcampu...|       653000|    190000|[01. 입문-3년차 채용공고 ...|[Part 1.HTML/CSS/...|     [06. HTML 핵심 정리, ...|\n",
            "|2024 시그니처 프론트엔드 :...|현재 FE 개발자에게 요구하는 ...|사전예약|[프론트엔드, 시그니처, 입문,...|https://storage.g...|https://fastcampu...|       653000|    190000|[01. 입문-3년차 채용공고 ...|[Part 1.HTML/CSS/...|     [07. CSS 개요, ∙ 기본...|\n",
            "|2024 시그니처 프론트엔드 :...|현재 FE 개발자에게 요구하는 ...|사전예약|[프론트엔드, 시그니처, 입문,...|https://storage.g...|https://fastcampu...|       653000|    190000|[01. 입문-3년차 채용공고 ...|[Part 1.HTML/CSS/...|     [08. CSS 속성, ∙ 개요...|\n",
            "|2024 시그니처 프론트엔드 :...|현재 FE 개발자에게 요구하는 ...|사전예약|[프론트엔드, 시그니처, 입문,...|https://storage.g...|https://fastcampu...|       653000|    190000|[01. 입문-3년차 채용공고 ...|[Part 1.HTML/CSS/...|     [09. JS 선행, ∙ 개요\\...|\n",
            "|2024 시그니처 프론트엔드 :...|현재 FE 개발자에게 요구하는 ...|사전예약|[프론트엔드, 시그니처, 입문,...|https://storage.g...|https://fastcampu...|       653000|    190000|[01. 입문-3년차 채용공고 ...|[Part 1.HTML/CSS/...|  [10. 스타벅스 예제, ∙ 시...|\n",
            "|2024 시그니처 프론트엔드 :...|현재 FE 개발자에게 요구하는 ...|사전예약|[프론트엔드, 시그니처, 입문,...|https://storage.g...|https://fastcampu...|       653000|    190000|[01. 입문-3년차 채용공고 ...|[Part 1.HTML/CSS/...|   [01. 버전관리, ∙ 개요(G...|\n",
            "|2024 시그니처 프론트엔드 :...|현재 FE 개발자에게 요구하는 ...|사전예약|[프론트엔드, 시그니처, 입문,...|https://storage.g...|https://fastcampu...|       653000|    190000|[01. 입문-3년차 채용공고 ...|[Part 1.HTML/CSS/...|   [02. 마크다운, ∙ 개요\\n...|\n",
            "|2024 시그니처 프론트엔드 :...|현재 FE 개발자에게 요구하는 ...|사전예약|[프론트엔드, 시그니처, 입문,...|https://storage.g...|https://fastcampu...|       653000|    190000|[01. 입문-3년차 채용공고 ...|[Part 1.HTML/CSS/...|[01. 데스크탑 모드로 개발,...|\n",
            "|2024 시그니처 프론트엔드 :...|현재 FE 개발자에게 요구하는 ...|사전예약|[프론트엔드, 시그니처, 입문,...|https://storage.g...|https://fastcampu...|       653000|    190000|[01. 입문-3년차 채용공고 ...|[Part 1.HTML/CSS/...|[02. 태블릿/모바일 모드로 ...|\n",
            "|2024 시그니처 프론트엔드 :...|현재 FE 개발자에게 요구하는 ...|사전예약|[프론트엔드, 시그니처, 입문,...|https://storage.g...|https://fastcampu...|       653000|    190000|[01. 입문-3년차 채용공고 ...|[Part 1.HTML/CSS/...|       [01. NodeJS, ∙ 개요...|\n",
            "|2024 시그니처 프론트엔드 :...|현재 FE 개발자에게 요구하는 ...|사전예약|[프론트엔드, 시그니처, 입문,...|https://storage.g...|https://fastcampu...|       653000|    190000|[01. 입문-3년차 채용공고 ...|[Part 1.HTML/CSS/...|    [02. JS 데이터, ∙ 개요...|\n",
            "|2024 시그니처 프론트엔드 :...|현재 FE 개발자에게 요구하는 ...|사전예약|[프론트엔드, 시그니처, 입문,...|https://storage.g...|https://fastcampu...|       653000|    190000|[01. 입문-3년차 채용공고 ...|[Part 1.HTML/CSS/...|  [03. 연산자와 구문, ∙ 산...|\n",
            "|2024 시그니처 프론트엔드 :...|현재 FE 개발자에게 요구하는 ...|사전예약|[프론트엔드, 시그니처, 입문,...|https://storage.g...|https://fastcampu...|       653000|    190000|[01. 입문-3년차 채용공고 ...|[Part 1.HTML/CSS/...|  [04. 함수, ∙ 선언과 표현...|\n",
            "+-----------------------------+-------------------------------+--------+-------------------------------+--------------------+--------------------+-------------+----------+----------------------------+--------------------+-----------------------------+\n",
            "only showing top 20 rows\n",
            "\n"
          ]
        }
      ]
    },
    {
      "cell_type": "markdown",
      "source": [
        "df_flatteded: 단어 검색할 수 있게 평탄화된 df"
      ],
      "metadata": {
        "id": "yIRzu5d0tjAK"
      }
    },
    {
      "cell_type": "code",
      "source": [
        "# title 또는 tags에 키워드가 포함된 항목 필터링\n",
        "df_filtered = df_flattened.filter(\n",
        "    col(\"title\").contains(keyword) |\n",
        "    col(\"intro\").contains(keyword) |\n",
        "    array_contains(col(\"tags\"), keyword) |\n",
        "    array_contains(col(\"summary\"), keyword) |\n",
        "    array_contains(col(\"parts\"), keyword) |\n",
        "    array_contains(col(\"accordion\"), keyword)\n",
        ")"
      ],
      "metadata": {
        "id": "9QZpUwGdsNg_"
      },
      "execution_count": 75,
      "outputs": []
    },
    {
      "cell_type": "code",
      "source": [
        "df_filtered.show(truncate=False) # (내용 생략 X)"
      ],
      "metadata": {
        "colab": {
          "base_uri": "https://localhost:8080/"
        },
        "id": "PY_2IlrasTam",
        "outputId": "3a5aea80-7fa8-405d-c7a8-73c24d4c4461"
      },
      "execution_count": 76,
      "outputs": [
        {
          "output_type": "stream",
          "name": "stdout",
          "text": [
            "+----------------------------------------------------------------------+----------------------------------------------------------------------------------------+--------+------------------------------------------------------------------------------------------------------------------------------------------------------------------------------------------------------------+----------------------------------------------------------------------------------------------+-----------------------------------------------+-------------+----------+---------------------------------------------------------------------------------------------------------------------------------------------------------------------------------------------------------------------------------------------------------------------------------------------------------------------------------------------------------------------------------------------------------------------------------------------------------------------------------------------------------------------------------+--------------------------------------------------------------------------------------------------------------------------------------------------------------------------------------------------------------------------------------------------------------------------------------------------------------------------------------------------------------------------------------------------------------------------------------------------------------------------------------------------------------------------------------------------------------------------------------------------------------------------------------------------------------------------------------------------------------------------------------------------------------------------------------------------------------------------------------------------------------------------------------------------------------------------------------------------------------------------------------------------------------------------------------------------------------------------------------------------------------------------------------------------------------------------------------------------------------------------------------------------------------------------------------------------------------------------------------------------+-----------------------------------------------------------------------------------------------------------------------------------------------------------------------------------------------------------------------------------------------------------------------------------------------------------------------------------------------------------------------------------------------------------------------------------------------------------------------------------------------------------------------------------------------------------------------------------------------------------------------------------------------------------------------------------------------------------------------------------------------------------------------------------------------------------------------------------------------------------------------------------------------------------------------------------------------------------------------------------------------------------------------------------------------------------------------------------------------------------------------------------------------------------------------------------------------------------------------------------------------------------------------------------------------------------------------------------------------------------------------------------------------------------------------------------------------------------------------------+\n",
            "|title                                                                 |intro                                                                                   |badge   |tags                                                                                                                                                                                                        |course_img                                                                                    |course_url                                     |regular_price|sale_price|summary                                                                                                                                                                                                                                                                                                                                                                                                                                                                                                                          |parts                                                                                                                                                                                                                                                                                                                                                                                                                                                                                                                                                                                                                                                                                                                                                                                                                                                                                                                                                                                                                                                                                                                                                                                                                                                                                                                                             |accordion                                                                                                                                                                                                                                                                                                                                                                                                                                                                                                                                                                                                                                                                                                                                                                                                                                                                                                                                                                                                                                                                                                                                                                                                                                                                                                                                                                                                                                                                    |\n",
            "+----------------------------------------------------------------------+----------------------------------------------------------------------------------------+--------+------------------------------------------------------------------------------------------------------------------------------------------------------------------------------------------------------------+----------------------------------------------------------------------------------------------+-----------------------------------------------+-------------+----------+---------------------------------------------------------------------------------------------------------------------------------------------------------------------------------------------------------------------------------------------------------------------------------------------------------------------------------------------------------------------------------------------------------------------------------------------------------------------------------------------------------------------------------+--------------------------------------------------------------------------------------------------------------------------------------------------------------------------------------------------------------------------------------------------------------------------------------------------------------------------------------------------------------------------------------------------------------------------------------------------------------------------------------------------------------------------------------------------------------------------------------------------------------------------------------------------------------------------------------------------------------------------------------------------------------------------------------------------------------------------------------------------------------------------------------------------------------------------------------------------------------------------------------------------------------------------------------------------------------------------------------------------------------------------------------------------------------------------------------------------------------------------------------------------------------------------------------------------------------------------------------------------+-----------------------------------------------------------------------------------------------------------------------------------------------------------------------------------------------------------------------------------------------------------------------------------------------------------------------------------------------------------------------------------------------------------------------------------------------------------------------------------------------------------------------------------------------------------------------------------------------------------------------------------------------------------------------------------------------------------------------------------------------------------------------------------------------------------------------------------------------------------------------------------------------------------------------------------------------------------------------------------------------------------------------------------------------------------------------------------------------------------------------------------------------------------------------------------------------------------------------------------------------------------------------------------------------------------------------------------------------------------------------------------------------------------------------------------------------------------------------------+\n",
            "|2024 시그니처 프론트엔드 : 웹 개발부터 모바일까지 프론트엔드의 모든 것|현재 FE 개발자에게 요구하는 모든 것을 담은 192시간 패스트캠퍼스 프론트엔드 시그니처 강의|사전예약|[프론트엔드, 시그니처, 입문, 기초, 기본, 실전, 리액트, REACT, NEXT.JS, VERCEL, REACTNATIVE, JAVASCRIPT, 웹뷰, 코딩테스트, TYPESCRIPT, 프런트엔드, COPILOT, CHATGPT, 취업, 이직, 빅테크, FRONTEND, SIGNITURE]|https://storage.googleapis.com/static.fastcampus.co.kr/prod/uploads/202405/110514-964/1-2.webp|https://fastcampus.co.kr/dev_online_fesignature|653000       |190000    |[01. 입문-3년차 채용공고 풀커버 커리큘럼\\n20개 이상 프로젝트로 기초부터 프레임워크/개발환경/모바일 대응까지 다룬 국내 유일 강의, 02. FE 개발환경 다양화 반영! 39개 스택\\n다양한 상태관리 라이브러리, 패키지매니저, 번들러 등 프로젝트별 트렌드를 반영해 학습, 03. AI기술 활용법을 익히는 6개 프로젝트\\n챗GPT API를 이해하고 활용하며 개발에 사용하고 AI 도구의 활용 방법까지 익히는 학습 부록 포함, 01\\n데이터베이스\\n자세히보기, 02\\n컴퓨터 네트워크\\n자세히보기, 03\\n컴퓨터 구조\\n자세히보기, 04\\n개발 방법론 & SW\\n자세히보기]|[Part 1.HTML/CSS/JS 기초 : 스타벅스 웹 사이트 UI 클론, Part 2. Git을 활용한 버전관리, Part 3. HTML/CSS/JS 응용 : 애플 아이패드 반응형 웹 사이트, Part 4. JavaScript 마스터 : API로 영화 검색 사이트, Part 5. TypeScript 마스터 : 영화 검색 예제 수정하기, Part 6. React 기본 : 컴포넌트 작성 및 구조와 상태관리 학습, Part 7. React 활용 : 컴포넌트와 다양한 Form 제어 및 테스팅 전략 학습, Part 8. React 심화 : React 기반의 렌더링 이해, Part 9. Next.js13 기본 : SSG 및 Pre-render와 백엔드 통신과 API Routes로 백엔드 로직 개발, Part 10. Next.js13 활용 : SSR 및 데이터 로딩과 React-Query로 데이터 상태 관리, Part 11. Next.js14 기본 : Next 14 새롭게 추가된 기능으로 알아보는 성능 최적화 (streaming, cache), Part 12. Next.js14 활용 : Static Rendering과 Streaming을 활용한 렌더링 최적화, Part 13. Next.js14 심화 : Server Action을 활용하여 효율적으로 form 다루기, Part 14. 프론트엔드 개발 환경의 기초 : 개발 환경 구성 및 관리(번들러, 패키지 매니저, 개발 서버 설정 등), Part 15. 프론트엔드 개발 환경의 실전 : 개발 환경 구성 전략 및 고급 기술 (모노레포 도구, 테스팅 프레임워크 등), Part 16. 기초 웹뷰 개발 : React Native, Part 17. 웹과 앱 통합 : 웹뷰 띄우기, Part 18. 웹과 앱 통신 : 웹 SDK 활용 앱 개발, Part 19. 앱 리소스 활용 : 모바일 디바이스의 마이크 등 활용 개발, Part 20. 웹뷰 앱 배포부터 업데이트까지 모든 것]|[기본 정보, | 수강대상\\n입문자부터 3년차까지\\n|강의 특징\\n6개 대주제로 프론트엔드 개발에 필요한 주요 기술 마스터\\n1) HTML,CSS,JS,TS : 웹 뼈대 및 UI 구현\\n2) React : 구조화된 방식의 인터페이스 구현\\n3) React & Next.js : 서버 및 백엔드 통신 이해\\n4) Next.js : 성능 고려 프론트엔드 개발\\n5) 번들러, 패키지 매니저 등 : 개발환경 이해\\n6) React Native : 모바일 환경 대응 7) JS 코딩테스트까지 구성하여 면접과 CS지식까지 탄탄하게\\n∙ 약 192시간의 분량\\n∙ 입문 - 실전\\n\\n동일 강의 안내\\n1) 본 강의의 [Part 1~Part 2] 아래의 강의와 동일합니다.\\n- 한 번에 끝내는 프론트엔드 개발 초격차 패키지 Online.\\n- 14일 만에 만드는 스타벅스 웹 사이트 with HTML&CSS\\n\\n2) 본 강의의 [Part 1~5 Ch2] 는 아래의 강의와 동일합니다.\\n- 한 번에 끝내는 HTML, CSS, JavaScript, TypeScript 올인원 패키지 Online.\\n- 프론트엔드 웹 개발의 모든 것 (시그니처) 초격차 패키지 Online.\\n\\n3) 본 강의의 [pecial Class +1]은 아래의 강의와 동일합니다.\\n- 개발자 취업 합격 패스 With 코딩테스트, 기술면접 초격차 패키지 Online.\\n\\n4) 본 강의의 [Special Class 2 레벨업 +3]은 아래의 강의와 동일합니다.\\n- 한 번에 끝내는 현실 세상의 컴퓨터공학지식 with 30가지 시나리오 초격차 패키지 Online.]                                                                                                                                                                                                                                                                                              |\n",
            "|2024 시그니처 프론트엔드 : 웹 개발부터 모바일까지 프론트엔드의 모든 것|현재 FE 개발자에게 요구하는 모든 것을 담은 192시간 패스트캠퍼스 프론트엔드 시그니처 강의|사전예약|[프론트엔드, 시그니처, 입문, 기초, 기본, 실전, 리액트, REACT, NEXT.JS, VERCEL, REACTNATIVE, JAVASCRIPT, 웹뷰, 코딩테스트, TYPESCRIPT, 프런트엔드, COPILOT, CHATGPT, 취업, 이직, 빅테크, FRONTEND, SIGNITURE]|https://storage.googleapis.com/static.fastcampus.co.kr/prod/uploads/202405/110514-964/1-2.webp|https://fastcampus.co.kr/dev_online_fesignature|653000       |190000    |[01. 입문-3년차 채용공고 풀커버 커리큘럼\\n20개 이상 프로젝트로 기초부터 프레임워크/개발환경/모바일 대응까지 다룬 국내 유일 강의, 02. FE 개발환경 다양화 반영! 39개 스택\\n다양한 상태관리 라이브러리, 패키지매니저, 번들러 등 프로젝트별 트렌드를 반영해 학습, 03. AI기술 활용법을 익히는 6개 프로젝트\\n챗GPT API를 이해하고 활용하며 개발에 사용하고 AI 도구의 활용 방법까지 익히는 학습 부록 포함, 01\\n데이터베이스\\n자세히보기, 02\\n컴퓨터 네트워크\\n자세히보기, 03\\n컴퓨터 구조\\n자세히보기, 04\\n개발 방법론 & SW\\n자세히보기]|[Part 1.HTML/CSS/JS 기초 : 스타벅스 웹 사이트 UI 클론, Part 2. Git을 활용한 버전관리, Part 3. HTML/CSS/JS 응용 : 애플 아이패드 반응형 웹 사이트, Part 4. JavaScript 마스터 : API로 영화 검색 사이트, Part 5. TypeScript 마스터 : 영화 검색 예제 수정하기, Part 6. React 기본 : 컴포넌트 작성 및 구조와 상태관리 학습, Part 7. React 활용 : 컴포넌트와 다양한 Form 제어 및 테스팅 전략 학습, Part 8. React 심화 : React 기반의 렌더링 이해, Part 9. Next.js13 기본 : SSG 및 Pre-render와 백엔드 통신과 API Routes로 백엔드 로직 개발, Part 10. Next.js13 활용 : SSR 및 데이터 로딩과 React-Query로 데이터 상태 관리, Part 11. Next.js14 기본 : Next 14 새롭게 추가된 기능으로 알아보는 성능 최적화 (streaming, cache), Part 12. Next.js14 활용 : Static Rendering과 Streaming을 활용한 렌더링 최적화, Part 13. Next.js14 심화 : Server Action을 활용하여 효율적으로 form 다루기, Part 14. 프론트엔드 개발 환경의 기초 : 개발 환경 구성 및 관리(번들러, 패키지 매니저, 개발 서버 설정 등), Part 15. 프론트엔드 개발 환경의 실전 : 개발 환경 구성 전략 및 고급 기술 (모노레포 도구, 테스팅 프레임워크 등), Part 16. 기초 웹뷰 개발 : React Native, Part 17. 웹과 앱 통합 : 웹뷰 띄우기, Part 18. 웹과 앱 통신 : 웹 SDK 활용 앱 개발, Part 19. 앱 리소스 활용 : 모바일 디바이스의 마이크 등 활용 개발, Part 20. 웹뷰 앱 배포부터 업데이트까지 모든 것]|[강의 특징, ∙ 수강료 1회 결제로 평생 소장\\n∙ 부가 학습 자료 제공\\n∙ 실무에서 개발하듯 다양한 스택을 조합하여 사용하는 방법을 학습\\n| 개발 환경(클래스 2~5)\\n1) 메인 프레임워크 & 라이브러리 : React 18.2, Next.js 13.5.6, Next.js 14(버전 수정 필요)\\n2) 상태관리 : Redux5.0.1, React-Query 5.29.2, MobX 6.12.3, Zustand 4.5.2, Jotai 2.7.2, SWR 2.2.5, Redux Toolkit 2.2.3, Redux Thunk 3.1.0,\\n3) 스타일링 : Tailwind 3.4.3, GSAP 3.12.5, Framer-Motion 11.1.7, Emotion 11.11.4\\n4) 개발환경 : Webpack 5.91.0, npm 5.0, Vite 5.2.10, yarn 1.22.22, ESBuild 0.20.2, pnpm 9.1.0, Rollup 4.12.4, Parcel 2.12.0\\n5) 백엔드/서버/배포 : Node.js20.12.2, Firebase 10.11.0, Express.js 4.19.2, GraphQL 16.8.1, Docker 4.29.0, Github-action\\n6) 테스트 : Jest 29.7.0, React Testing Library 15.0.4, Cypress13.7.3\\n7) 기타 : React Router 6.23.0, Storybook8.0.9, MSW 2.2.13, Prettier 3.2.5, ESLint 9.1.1, Webpack Dev Server 5.0.4, dotenv 16.4.5\\n8) React Native 0.72.12]                                                                                                                                                                                                                                                                                                                                                                                                                                                                                                     |\n",
            "|2024 시그니처 프론트엔드 : 웹 개발부터 모바일까지 프론트엔드의 모든 것|현재 FE 개발자에게 요구하는 모든 것을 담은 192시간 패스트캠퍼스 프론트엔드 시그니처 강의|사전예약|[프론트엔드, 시그니처, 입문, 기초, 기본, 실전, 리액트, REACT, NEXT.JS, VERCEL, REACTNATIVE, JAVASCRIPT, 웹뷰, 코딩테스트, TYPESCRIPT, 프런트엔드, COPILOT, CHATGPT, 취업, 이직, 빅테크, FRONTEND, SIGNITURE]|https://storage.googleapis.com/static.fastcampus.co.kr/prod/uploads/202405/110514-964/1-2.webp|https://fastcampus.co.kr/dev_online_fesignature|653000       |190000    |[01. 입문-3년차 채용공고 풀커버 커리큘럼\\n20개 이상 프로젝트로 기초부터 프레임워크/개발환경/모바일 대응까지 다룬 국내 유일 강의, 02. FE 개발환경 다양화 반영! 39개 스택\\n다양한 상태관리 라이브러리, 패키지매니저, 번들러 등 프로젝트별 트렌드를 반영해 학습, 03. AI기술 활용법을 익히는 6개 프로젝트\\n챗GPT API를 이해하고 활용하며 개발에 사용하고 AI 도구의 활용 방법까지 익히는 학습 부록 포함, 01\\n데이터베이스\\n자세히보기, 02\\n컴퓨터 네트워크\\n자세히보기, 03\\n컴퓨터 구조\\n자세히보기, 04\\n개발 방법론 & SW\\n자세히보기]|[Part 1.HTML/CSS/JS 기초 : 스타벅스 웹 사이트 UI 클론, Part 2. Git을 활용한 버전관리, Part 3. HTML/CSS/JS 응용 : 애플 아이패드 반응형 웹 사이트, Part 4. JavaScript 마스터 : API로 영화 검색 사이트, Part 5. TypeScript 마스터 : 영화 검색 예제 수정하기, Part 6. React 기본 : 컴포넌트 작성 및 구조와 상태관리 학습, Part 7. React 활용 : 컴포넌트와 다양한 Form 제어 및 테스팅 전략 학습, Part 8. React 심화 : React 기반의 렌더링 이해, Part 9. Next.js13 기본 : SSG 및 Pre-render와 백엔드 통신과 API Routes로 백엔드 로직 개발, Part 10. Next.js13 활용 : SSR 및 데이터 로딩과 React-Query로 데이터 상태 관리, Part 11. Next.js14 기본 : Next 14 새롭게 추가된 기능으로 알아보는 성능 최적화 (streaming, cache), Part 12. Next.js14 활용 : Static Rendering과 Streaming을 활용한 렌더링 최적화, Part 13. Next.js14 심화 : Server Action을 활용하여 효율적으로 form 다루기, Part 14. 프론트엔드 개발 환경의 기초 : 개발 환경 구성 및 관리(번들러, 패키지 매니저, 개발 서버 설정 등), Part 15. 프론트엔드 개발 환경의 실전 : 개발 환경 구성 전략 및 고급 기술 (모노레포 도구, 테스팅 프레임워크 등), Part 16. 기초 웹뷰 개발 : React Native, Part 17. 웹과 앱 통합 : 웹뷰 띄우기, Part 18. 웹과 앱 통신 : 웹 SDK 활용 앱 개발, Part 19. 앱 리소스 활용 : 모바일 디바이스의 마이크 등 활용 개발, Part 20. 웹뷰 앱 배포부터 업데이트까지 모든 것]|[01. 개요, ∙ 첫 인사 및 강의 개요\\n∙ HTML,CSS 그리고 JS\\n∙ 웹앱의 동작원리\\n∙ 웹 표준과 브라우저\\n∙ 웹에서 사용하는 이미지\\n∙ 특수 기호\\n∙ 오픈소스 라이선스]                                                                                                                                                                                                                                                                                                                                                                                                                                                                                                                                                                                                                                                                                                                                                                                                                                                                                                                                                                                                                                                                                                                                                                                                                                                                                                                |\n",
            "|2024 시그니처 프론트엔드 : 웹 개발부터 모바일까지 프론트엔드의 모든 것|현재 FE 개발자에게 요구하는 모든 것을 담은 192시간 패스트캠퍼스 프론트엔드 시그니처 강의|사전예약|[프론트엔드, 시그니처, 입문, 기초, 기본, 실전, 리액트, REACT, NEXT.JS, VERCEL, REACTNATIVE, JAVASCRIPT, 웹뷰, 코딩테스트, TYPESCRIPT, 프런트엔드, COPILOT, CHATGPT, 취업, 이직, 빅테크, FRONTEND, SIGNITURE]|https://storage.googleapis.com/static.fastcampus.co.kr/prod/uploads/202405/110514-964/1-2.webp|https://fastcampus.co.kr/dev_online_fesignature|653000       |190000    |[01. 입문-3년차 채용공고 풀커버 커리큘럼\\n20개 이상 프로젝트로 기초부터 프레임워크/개발환경/모바일 대응까지 다룬 국내 유일 강의, 02. FE 개발환경 다양화 반영! 39개 스택\\n다양한 상태관리 라이브러리, 패키지매니저, 번들러 등 프로젝트별 트렌드를 반영해 학습, 03. AI기술 활용법을 익히는 6개 프로젝트\\n챗GPT API를 이해하고 활용하며 개발에 사용하고 AI 도구의 활용 방법까지 익히는 학습 부록 포함, 01\\n데이터베이스\\n자세히보기, 02\\n컴퓨터 네트워크\\n자세히보기, 03\\n컴퓨터 구조\\n자세히보기, 04\\n개발 방법론 & SW\\n자세히보기]|[Part 1.HTML/CSS/JS 기초 : 스타벅스 웹 사이트 UI 클론, Part 2. Git을 활용한 버전관리, Part 3. HTML/CSS/JS 응용 : 애플 아이패드 반응형 웹 사이트, Part 4. JavaScript 마스터 : API로 영화 검색 사이트, Part 5. TypeScript 마스터 : 영화 검색 예제 수정하기, Part 6. React 기본 : 컴포넌트 작성 및 구조와 상태관리 학습, Part 7. React 활용 : 컴포넌트와 다양한 Form 제어 및 테스팅 전략 학습, Part 8. React 심화 : React 기반의 렌더링 이해, Part 9. Next.js13 기본 : SSG 및 Pre-render와 백엔드 통신과 API Routes로 백엔드 로직 개발, Part 10. Next.js13 활용 : SSR 및 데이터 로딩과 React-Query로 데이터 상태 관리, Part 11. Next.js14 기본 : Next 14 새롭게 추가된 기능으로 알아보는 성능 최적화 (streaming, cache), Part 12. Next.js14 활용 : Static Rendering과 Streaming을 활용한 렌더링 최적화, Part 13. Next.js14 심화 : Server Action을 활용하여 효율적으로 form 다루기, Part 14. 프론트엔드 개발 환경의 기초 : 개발 환경 구성 및 관리(번들러, 패키지 매니저, 개발 서버 설정 등), Part 15. 프론트엔드 개발 환경의 실전 : 개발 환경 구성 전략 및 고급 기술 (모노레포 도구, 테스팅 프레임워크 등), Part 16. 기초 웹뷰 개발 : React Native, Part 17. 웹과 앱 통합 : 웹뷰 띄우기, Part 18. 웹과 앱 통신 : 웹 SDK 활용 앱 개발, Part 19. 앱 리소스 활용 : 모바일 디바이스의 마이크 등 활용 개발, Part 20. 웹뷰 앱 배포부터 업데이트까지 모든 것]|[02. VSCode, ∙ 설치 및 실행\\n∙ 파일 생성과 삭제\\n∙ 한글화\\n∙ 정리된 코드 만들기\\n∙ 태그 이름을 한 번에 변경(Auto Rename Tag)\\n∙ 브라우저에 출력(Live Server)\\n∙ 단축키 & 공백2로 만들기]                                                                                                                                                                                                                                                                                                                                                                                                                                                                                                                                                                                                                                                                                                                                                                                                                                                                                                                                                                                                                                                                                                                                                                                                                                                                                     |\n",
            "|2024 시그니처 프론트엔드 : 웹 개발부터 모바일까지 프론트엔드의 모든 것|현재 FE 개발자에게 요구하는 모든 것을 담은 192시간 패스트캠퍼스 프론트엔드 시그니처 강의|사전예약|[프론트엔드, 시그니처, 입문, 기초, 기본, 실전, 리액트, REACT, NEXT.JS, VERCEL, REACTNATIVE, JAVASCRIPT, 웹뷰, 코딩테스트, TYPESCRIPT, 프런트엔드, COPILOT, CHATGPT, 취업, 이직, 빅테크, FRONTEND, SIGNITURE]|https://storage.googleapis.com/static.fastcampus.co.kr/prod/uploads/202405/110514-964/1-2.webp|https://fastcampus.co.kr/dev_online_fesignature|653000       |190000    |[01. 입문-3년차 채용공고 풀커버 커리큘럼\\n20개 이상 프로젝트로 기초부터 프레임워크/개발환경/모바일 대응까지 다룬 국내 유일 강의, 02. FE 개발환경 다양화 반영! 39개 스택\\n다양한 상태관리 라이브러리, 패키지매니저, 번들러 등 프로젝트별 트렌드를 반영해 학습, 03. AI기술 활용법을 익히는 6개 프로젝트\\n챗GPT API를 이해하고 활용하며 개발에 사용하고 AI 도구의 활용 방법까지 익히는 학습 부록 포함, 01\\n데이터베이스\\n자세히보기, 02\\n컴퓨터 네트워크\\n자세히보기, 03\\n컴퓨터 구조\\n자세히보기, 04\\n개발 방법론 & SW\\n자세히보기]|[Part 1.HTML/CSS/JS 기초 : 스타벅스 웹 사이트 UI 클론, Part 2. Git을 활용한 버전관리, Part 3. HTML/CSS/JS 응용 : 애플 아이패드 반응형 웹 사이트, Part 4. JavaScript 마스터 : API로 영화 검색 사이트, Part 5. TypeScript 마스터 : 영화 검색 예제 수정하기, Part 6. React 기본 : 컴포넌트 작성 및 구조와 상태관리 학습, Part 7. React 활용 : 컴포넌트와 다양한 Form 제어 및 테스팅 전략 학습, Part 8. React 심화 : React 기반의 렌더링 이해, Part 9. Next.js13 기본 : SSG 및 Pre-render와 백엔드 통신과 API Routes로 백엔드 로직 개발, Part 10. Next.js13 활용 : SSR 및 데이터 로딩과 React-Query로 데이터 상태 관리, Part 11. Next.js14 기본 : Next 14 새롭게 추가된 기능으로 알아보는 성능 최적화 (streaming, cache), Part 12. Next.js14 활용 : Static Rendering과 Streaming을 활용한 렌더링 최적화, Part 13. Next.js14 심화 : Server Action을 활용하여 효율적으로 form 다루기, Part 14. 프론트엔드 개발 환경의 기초 : 개발 환경 구성 및 관리(번들러, 패키지 매니저, 개발 서버 설정 등), Part 15. 프론트엔드 개발 환경의 실전 : 개발 환경 구성 전략 및 고급 기술 (모노레포 도구, 테스팅 프레임워크 등), Part 16. 기초 웹뷰 개발 : React Native, Part 17. 웹과 앱 통합 : 웹뷰 띄우기, Part 18. 웹과 앱 통신 : 웹 SDK 활용 앱 개발, Part 19. 앱 리소스 활용 : 모바일 디바이스의 마이크 등 활용 개발, Part 20. 웹뷰 앱 배포부터 업데이트까지 모든 것]|[03. 무작정 시작하기, ∙ Doctype(DTD)\\n∙ HTML, HEAD, BODY\\n∙ CSS,JS 연결하기\\n∙ 정보를 의미하는 태그 살펴보기\\n∙ 화면에 이미지 출력하기\\n∙ 상태 경로와 절대 경로\\n∙ 페이지를 나누고 연결(링크)하기\\n∙ 모든 파일 공백 크기 설정\\n∙ 개발자 도구 사용하기]                                                                                                                                                                                                                                                                                                                                                                                                                                                                                                                                                                                                                                                                                                                                                                                                                                                                                                                                                                                                                                                                                                                                                                                                                       |\n",
            "|2024 시그니처 프론트엔드 : 웹 개발부터 모바일까지 프론트엔드의 모든 것|현재 FE 개발자에게 요구하는 모든 것을 담은 192시간 패스트캠퍼스 프론트엔드 시그니처 강의|사전예약|[프론트엔드, 시그니처, 입문, 기초, 기본, 실전, 리액트, REACT, NEXT.JS, VERCEL, REACTNATIVE, JAVASCRIPT, 웹뷰, 코딩테스트, TYPESCRIPT, 프런트엔드, COPILOT, CHATGPT, 취업, 이직, 빅테크, FRONTEND, SIGNITURE]|https://storage.googleapis.com/static.fastcampus.co.kr/prod/uploads/202405/110514-964/1-2.webp|https://fastcampus.co.kr/dev_online_fesignature|653000       |190000    |[01. 입문-3년차 채용공고 풀커버 커리큘럼\\n20개 이상 프로젝트로 기초부터 프레임워크/개발환경/모바일 대응까지 다룬 국내 유일 강의, 02. FE 개발환경 다양화 반영! 39개 스택\\n다양한 상태관리 라이브러리, 패키지매니저, 번들러 등 프로젝트별 트렌드를 반영해 학습, 03. AI기술 활용법을 익히는 6개 프로젝트\\n챗GPT API를 이해하고 활용하며 개발에 사용하고 AI 도구의 활용 방법까지 익히는 학습 부록 포함, 01\\n데이터베이스\\n자세히보기, 02\\n컴퓨터 네트워크\\n자세히보기, 03\\n컴퓨터 구조\\n자세히보기, 04\\n개발 방법론 & SW\\n자세히보기]|[Part 1.HTML/CSS/JS 기초 : 스타벅스 웹 사이트 UI 클론, Part 2. Git을 활용한 버전관리, Part 3. HTML/CSS/JS 응용 : 애플 아이패드 반응형 웹 사이트, Part 4. JavaScript 마스터 : API로 영화 검색 사이트, Part 5. TypeScript 마스터 : 영화 검색 예제 수정하기, Part 6. React 기본 : 컴포넌트 작성 및 구조와 상태관리 학습, Part 7. React 활용 : 컴포넌트와 다양한 Form 제어 및 테스팅 전략 학습, Part 8. React 심화 : React 기반의 렌더링 이해, Part 9. Next.js13 기본 : SSG 및 Pre-render와 백엔드 통신과 API Routes로 백엔드 로직 개발, Part 10. Next.js13 활용 : SSR 및 데이터 로딩과 React-Query로 데이터 상태 관리, Part 11. Next.js14 기본 : Next 14 새롭게 추가된 기능으로 알아보는 성능 최적화 (streaming, cache), Part 12. Next.js14 활용 : Static Rendering과 Streaming을 활용한 렌더링 최적화, Part 13. Next.js14 심화 : Server Action을 활용하여 효율적으로 form 다루기, Part 14. 프론트엔드 개발 환경의 기초 : 개발 환경 구성 및 관리(번들러, 패키지 매니저, 개발 서버 설정 등), Part 15. 프론트엔드 개발 환경의 실전 : 개발 환경 구성 전략 및 고급 기술 (모노레포 도구, 테스팅 프레임워크 등), Part 16. 기초 웹뷰 개발 : React Native, Part 17. 웹과 앱 통합 : 웹뷰 띄우기, Part 18. 웹과 앱 통신 : 웹 SDK 활용 앱 개발, Part 19. 앱 리소스 활용 : 모바일 디바이스의 마이크 등 활용 개발, Part 20. 웹뷰 앱 배포부터 업데이트까지 모든 것]|[04. 웹에서 시작하기, ∙ Codepen.io 소개\\n∙ 브라우저 스타일 초기화\\n∙ Emmet]                                                                                                                                                                                                                                                                                                                                                                                                                                                                                                                                                                                                                                                                                                                                                                                                                                                                                                                                                                                                                                                                                                                                                                                                                                                                                                                                                                                                  |\n",
            "|2024 시그니처 프론트엔드 : 웹 개발부터 모바일까지 프론트엔드의 모든 것|현재 FE 개발자에게 요구하는 모든 것을 담은 192시간 패스트캠퍼스 프론트엔드 시그니처 강의|사전예약|[프론트엔드, 시그니처, 입문, 기초, 기본, 실전, 리액트, REACT, NEXT.JS, VERCEL, REACTNATIVE, JAVASCRIPT, 웹뷰, 코딩테스트, TYPESCRIPT, 프런트엔드, COPILOT, CHATGPT, 취업, 이직, 빅테크, FRONTEND, SIGNITURE]|https://storage.googleapis.com/static.fastcampus.co.kr/prod/uploads/202405/110514-964/1-2.webp|https://fastcampus.co.kr/dev_online_fesignature|653000       |190000    |[01. 입문-3년차 채용공고 풀커버 커리큘럼\\n20개 이상 프로젝트로 기초부터 프레임워크/개발환경/모바일 대응까지 다룬 국내 유일 강의, 02. FE 개발환경 다양화 반영! 39개 스택\\n다양한 상태관리 라이브러리, 패키지매니저, 번들러 등 프로젝트별 트렌드를 반영해 학습, 03. AI기술 활용법을 익히는 6개 프로젝트\\n챗GPT API를 이해하고 활용하며 개발에 사용하고 AI 도구의 활용 방법까지 익히는 학습 부록 포함, 01\\n데이터베이스\\n자세히보기, 02\\n컴퓨터 네트워크\\n자세히보기, 03\\n컴퓨터 구조\\n자세히보기, 04\\n개발 방법론 & SW\\n자세히보기]|[Part 1.HTML/CSS/JS 기초 : 스타벅스 웹 사이트 UI 클론, Part 2. Git을 활용한 버전관리, Part 3. HTML/CSS/JS 응용 : 애플 아이패드 반응형 웹 사이트, Part 4. JavaScript 마스터 : API로 영화 검색 사이트, Part 5. TypeScript 마스터 : 영화 검색 예제 수정하기, Part 6. React 기본 : 컴포넌트 작성 및 구조와 상태관리 학습, Part 7. React 활용 : 컴포넌트와 다양한 Form 제어 및 테스팅 전략 학습, Part 8. React 심화 : React 기반의 렌더링 이해, Part 9. Next.js13 기본 : SSG 및 Pre-render와 백엔드 통신과 API Routes로 백엔드 로직 개발, Part 10. Next.js13 활용 : SSR 및 데이터 로딩과 React-Query로 데이터 상태 관리, Part 11. Next.js14 기본 : Next 14 새롭게 추가된 기능으로 알아보는 성능 최적화 (streaming, cache), Part 12. Next.js14 활용 : Static Rendering과 Streaming을 활용한 렌더링 최적화, Part 13. Next.js14 심화 : Server Action을 활용하여 효율적으로 form 다루기, Part 14. 프론트엔드 개발 환경의 기초 : 개발 환경 구성 및 관리(번들러, 패키지 매니저, 개발 서버 설정 등), Part 15. 프론트엔드 개발 환경의 실전 : 개발 환경 구성 전략 및 고급 기술 (모노레포 도구, 테스팅 프레임워크 등), Part 16. 기초 웹뷰 개발 : React Native, Part 17. 웹과 앱 통합 : 웹뷰 띄우기, Part 18. 웹과 앱 통신 : 웹 SDK 활용 앱 개발, Part 19. 앱 리소스 활용 : 모바일 디바이스의 마이크 등 활용 개발, Part 20. 웹뷰 앱 배포부터 업데이트까지 모든 것]|[05. HTML 개요, ∙ 기본 문법\\n∙ 부모와 자식 관계의 이해\\n∙ 빈 태그\\n∙ 글자와 상자]                                                                                                                                                                                                                                                                                                                                                                                                                                                                                                                                                                                                                                                                                                                                                                                                                                                                                                                                                                                                                                                                                                                                                                                                                                                                                                                                                                                            |\n",
            "|2024 시그니처 프론트엔드 : 웹 개발부터 모바일까지 프론트엔드의 모든 것|현재 FE 개발자에게 요구하는 모든 것을 담은 192시간 패스트캠퍼스 프론트엔드 시그니처 강의|사전예약|[프론트엔드, 시그니처, 입문, 기초, 기본, 실전, 리액트, REACT, NEXT.JS, VERCEL, REACTNATIVE, JAVASCRIPT, 웹뷰, 코딩테스트, TYPESCRIPT, 프런트엔드, COPILOT, CHATGPT, 취업, 이직, 빅테크, FRONTEND, SIGNITURE]|https://storage.googleapis.com/static.fastcampus.co.kr/prod/uploads/202405/110514-964/1-2.webp|https://fastcampus.co.kr/dev_online_fesignature|653000       |190000    |[01. 입문-3년차 채용공고 풀커버 커리큘럼\\n20개 이상 프로젝트로 기초부터 프레임워크/개발환경/모바일 대응까지 다룬 국내 유일 강의, 02. FE 개발환경 다양화 반영! 39개 스택\\n다양한 상태관리 라이브러리, 패키지매니저, 번들러 등 프로젝트별 트렌드를 반영해 학습, 03. AI기술 활용법을 익히는 6개 프로젝트\\n챗GPT API를 이해하고 활용하며 개발에 사용하고 AI 도구의 활용 방법까지 익히는 학습 부록 포함, 01\\n데이터베이스\\n자세히보기, 02\\n컴퓨터 네트워크\\n자세히보기, 03\\n컴퓨터 구조\\n자세히보기, 04\\n개발 방법론 & SW\\n자세히보기]|[Part 1.HTML/CSS/JS 기초 : 스타벅스 웹 사이트 UI 클론, Part 2. Git을 활용한 버전관리, Part 3. HTML/CSS/JS 응용 : 애플 아이패드 반응형 웹 사이트, Part 4. JavaScript 마스터 : API로 영화 검색 사이트, Part 5. TypeScript 마스터 : 영화 검색 예제 수정하기, Part 6. React 기본 : 컴포넌트 작성 및 구조와 상태관리 학습, Part 7. React 활용 : 컴포넌트와 다양한 Form 제어 및 테스팅 전략 학습, Part 8. React 심화 : React 기반의 렌더링 이해, Part 9. Next.js13 기본 : SSG 및 Pre-render와 백엔드 통신과 API Routes로 백엔드 로직 개발, Part 10. Next.js13 활용 : SSR 및 데이터 로딩과 React-Query로 데이터 상태 관리, Part 11. Next.js14 기본 : Next 14 새롭게 추가된 기능으로 알아보는 성능 최적화 (streaming, cache), Part 12. Next.js14 활용 : Static Rendering과 Streaming을 활용한 렌더링 최적화, Part 13. Next.js14 심화 : Server Action을 활용하여 효율적으로 form 다루기, Part 14. 프론트엔드 개발 환경의 기초 : 개발 환경 구성 및 관리(번들러, 패키지 매니저, 개발 서버 설정 등), Part 15. 프론트엔드 개발 환경의 실전 : 개발 환경 구성 전략 및 고급 기술 (모노레포 도구, 테스팅 프레임워크 등), Part 16. 기초 웹뷰 개발 : React Native, Part 17. 웹과 앱 통합 : 웹뷰 띄우기, Part 18. 웹과 앱 통신 : 웹 SDK 활용 앱 개발, Part 19. 앱 리소스 활용 : 모바일 디바이스의 마이크 등 활용 개발, Part 20. 웹뷰 앱 배포부터 업데이트까지 모든 것]|[06. HTML 핵심 정리, ∙ 핵심 요소 정리\\n∙ 핵심 요소 출력 연습\\n∙ 주석\\n∙ 전역 속성]                                                                                                                                                                                                                                                                                                                                                                                                                                                                                                                                                                                                                                                                                                                                                                                                                                                                                                                                                                                                                                                                                                                                                                                                                                                                                                                                                                                           |\n",
            "|2024 시그니처 프론트엔드 : 웹 개발부터 모바일까지 프론트엔드의 모든 것|현재 FE 개발자에게 요구하는 모든 것을 담은 192시간 패스트캠퍼스 프론트엔드 시그니처 강의|사전예약|[프론트엔드, 시그니처, 입문, 기초, 기본, 실전, 리액트, REACT, NEXT.JS, VERCEL, REACTNATIVE, JAVASCRIPT, 웹뷰, 코딩테스트, TYPESCRIPT, 프런트엔드, COPILOT, CHATGPT, 취업, 이직, 빅테크, FRONTEND, SIGNITURE]|https://storage.googleapis.com/static.fastcampus.co.kr/prod/uploads/202405/110514-964/1-2.webp|https://fastcampus.co.kr/dev_online_fesignature|653000       |190000    |[01. 입문-3년차 채용공고 풀커버 커리큘럼\\n20개 이상 프로젝트로 기초부터 프레임워크/개발환경/모바일 대응까지 다룬 국내 유일 강의, 02. FE 개발환경 다양화 반영! 39개 스택\\n다양한 상태관리 라이브러리, 패키지매니저, 번들러 등 프로젝트별 트렌드를 반영해 학습, 03. AI기술 활용법을 익히는 6개 프로젝트\\n챗GPT API를 이해하고 활용하며 개발에 사용하고 AI 도구의 활용 방법까지 익히는 학습 부록 포함, 01\\n데이터베이스\\n자세히보기, 02\\n컴퓨터 네트워크\\n자세히보기, 03\\n컴퓨터 구조\\n자세히보기, 04\\n개발 방법론 & SW\\n자세히보기]|[Part 1.HTML/CSS/JS 기초 : 스타벅스 웹 사이트 UI 클론, Part 2. Git을 활용한 버전관리, Part 3. HTML/CSS/JS 응용 : 애플 아이패드 반응형 웹 사이트, Part 4. JavaScript 마스터 : API로 영화 검색 사이트, Part 5. TypeScript 마스터 : 영화 검색 예제 수정하기, Part 6. React 기본 : 컴포넌트 작성 및 구조와 상태관리 학습, Part 7. React 활용 : 컴포넌트와 다양한 Form 제어 및 테스팅 전략 학습, Part 8. React 심화 : React 기반의 렌더링 이해, Part 9. Next.js13 기본 : SSG 및 Pre-render와 백엔드 통신과 API Routes로 백엔드 로직 개발, Part 10. Next.js13 활용 : SSR 및 데이터 로딩과 React-Query로 데이터 상태 관리, Part 11. Next.js14 기본 : Next 14 새롭게 추가된 기능으로 알아보는 성능 최적화 (streaming, cache), Part 12. Next.js14 활용 : Static Rendering과 Streaming을 활용한 렌더링 최적화, Part 13. Next.js14 심화 : Server Action을 활용하여 효율적으로 form 다루기, Part 14. 프론트엔드 개발 환경의 기초 : 개발 환경 구성 및 관리(번들러, 패키지 매니저, 개발 서버 설정 등), Part 15. 프론트엔드 개발 환경의 실전 : 개발 환경 구성 전략 및 고급 기술 (모노레포 도구, 테스팅 프레임워크 등), Part 16. 기초 웹뷰 개발 : React Native, Part 17. 웹과 앱 통합 : 웹뷰 띄우기, Part 18. 웹과 앱 통신 : 웹 SDK 활용 앱 개발, Part 19. 앱 리소스 활용 : 모바일 디바이스의 마이크 등 활용 개발, Part 20. 웹뷰 앱 배포부터 업데이트까지 모든 것]|[07. CSS 개요, ∙ 기본 문법, 주석\\n∙ 선언 방식\\n∙ 선택자_기본\\n∙ 선택자_복합\\n∙ 선택자_가상 클래스 (1)\\n∙ 선택자_가상 클래스 (2)\\n∙ 선택자_가상 요소\\n∙ 선택자_속성\\n∙ 스타일 상속\\n∙ 선택자 우선순위]                                                                                                                                                                                                                                                                                                                                                                                                                                                                                                                                                                                                                                                                                                                                                                                                                                                                                                                                                                                                                                                                                                                                                                                                                                                                        |\n",
            "|2024 시그니처 프론트엔드 : 웹 개발부터 모바일까지 프론트엔드의 모든 것|현재 FE 개발자에게 요구하는 모든 것을 담은 192시간 패스트캠퍼스 프론트엔드 시그니처 강의|사전예약|[프론트엔드, 시그니처, 입문, 기초, 기본, 실전, 리액트, REACT, NEXT.JS, VERCEL, REACTNATIVE, JAVASCRIPT, 웹뷰, 코딩테스트, TYPESCRIPT, 프런트엔드, COPILOT, CHATGPT, 취업, 이직, 빅테크, FRONTEND, SIGNITURE]|https://storage.googleapis.com/static.fastcampus.co.kr/prod/uploads/202405/110514-964/1-2.webp|https://fastcampus.co.kr/dev_online_fesignature|653000       |190000    |[01. 입문-3년차 채용공고 풀커버 커리큘럼\\n20개 이상 프로젝트로 기초부터 프레임워크/개발환경/모바일 대응까지 다룬 국내 유일 강의, 02. FE 개발환경 다양화 반영! 39개 스택\\n다양한 상태관리 라이브러리, 패키지매니저, 번들러 등 프로젝트별 트렌드를 반영해 학습, 03. AI기술 활용법을 익히는 6개 프로젝트\\n챗GPT API를 이해하고 활용하며 개발에 사용하고 AI 도구의 활용 방법까지 익히는 학습 부록 포함, 01\\n데이터베이스\\n자세히보기, 02\\n컴퓨터 네트워크\\n자세히보기, 03\\n컴퓨터 구조\\n자세히보기, 04\\n개발 방법론 & SW\\n자세히보기]|[Part 1.HTML/CSS/JS 기초 : 스타벅스 웹 사이트 UI 클론, Part 2. Git을 활용한 버전관리, Part 3. HTML/CSS/JS 응용 : 애플 아이패드 반응형 웹 사이트, Part 4. JavaScript 마스터 : API로 영화 검색 사이트, Part 5. TypeScript 마스터 : 영화 검색 예제 수정하기, Part 6. React 기본 : 컴포넌트 작성 및 구조와 상태관리 학습, Part 7. React 활용 : 컴포넌트와 다양한 Form 제어 및 테스팅 전략 학습, Part 8. React 심화 : React 기반의 렌더링 이해, Part 9. Next.js13 기본 : SSG 및 Pre-render와 백엔드 통신과 API Routes로 백엔드 로직 개발, Part 10. Next.js13 활용 : SSR 및 데이터 로딩과 React-Query로 데이터 상태 관리, Part 11. Next.js14 기본 : Next 14 새롭게 추가된 기능으로 알아보는 성능 최적화 (streaming, cache), Part 12. Next.js14 활용 : Static Rendering과 Streaming을 활용한 렌더링 최적화, Part 13. Next.js14 심화 : Server Action을 활용하여 효율적으로 form 다루기, Part 14. 프론트엔드 개발 환경의 기초 : 개발 환경 구성 및 관리(번들러, 패키지 매니저, 개발 서버 설정 등), Part 15. 프론트엔드 개발 환경의 실전 : 개발 환경 구성 전략 및 고급 기술 (모노레포 도구, 테스팅 프레임워크 등), Part 16. 기초 웹뷰 개발 : React Native, Part 17. 웹과 앱 통합 : 웹뷰 띄우기, Part 18. 웹과 앱 통신 : 웹 SDK 활용 앱 개발, Part 19. 앱 리소스 활용 : 모바일 디바이스의 마이크 등 활용 개발, Part 20. 웹뷰 앱 배포부터 업데이트까지 모든 것]|[08. CSS 속성, ∙ 개요\\n∙ 너비(width, height)\\n∙ CSS 단위\\n∙ 외부 여백(margin)\\n∙ 내부 여백(padding)\\n∙ 테두리 선(border)과 색상 표현\\n∙ 모서리 둥글게(border-radius)\\n∙ 크기 계산(box-sizing)\\n∙ 넘침 제어(overflow)\\n∙ 출력 특성(display)\\n∙ 투명도\\n∙ 글꼴\\n∙ 문자\\n∙ 배경\\n∙ 배치 (1)\\n∙ 배치 (2)\\n∙ 배치 (3)\\n∙ 플렉스(정렬) Container (1)\\n∙ 플렉스(정렬) Container (2)\\n∙ 플렉스(정렬) Items\\n∙ 전환\\n∙ 변환 (1)\\n∙ 변환 (2)\\n∙ Overwatch 캐릭터 선택 예제 (1)\\n∙ Overwatch 캐릭터 선택 예제 (2)]                                                                                                                                                                                                                                                                                                                                                                                                                                                                                                                                                                                                                                                                                                                                                                                                                                                                                                                                                                      |\n",
            "|2024 시그니처 프론트엔드 : 웹 개발부터 모바일까지 프론트엔드의 모든 것|현재 FE 개발자에게 요구하는 모든 것을 담은 192시간 패스트캠퍼스 프론트엔드 시그니처 강의|사전예약|[프론트엔드, 시그니처, 입문, 기초, 기본, 실전, 리액트, REACT, NEXT.JS, VERCEL, REACTNATIVE, JAVASCRIPT, 웹뷰, 코딩테스트, TYPESCRIPT, 프런트엔드, COPILOT, CHATGPT, 취업, 이직, 빅테크, FRONTEND, SIGNITURE]|https://storage.googleapis.com/static.fastcampus.co.kr/prod/uploads/202405/110514-964/1-2.webp|https://fastcampus.co.kr/dev_online_fesignature|653000       |190000    |[01. 입문-3년차 채용공고 풀커버 커리큘럼\\n20개 이상 프로젝트로 기초부터 프레임워크/개발환경/모바일 대응까지 다룬 국내 유일 강의, 02. FE 개발환경 다양화 반영! 39개 스택\\n다양한 상태관리 라이브러리, 패키지매니저, 번들러 등 프로젝트별 트렌드를 반영해 학습, 03. AI기술 활용법을 익히는 6개 프로젝트\\n챗GPT API를 이해하고 활용하며 개발에 사용하고 AI 도구의 활용 방법까지 익히는 학습 부록 포함, 01\\n데이터베이스\\n자세히보기, 02\\n컴퓨터 네트워크\\n자세히보기, 03\\n컴퓨터 구조\\n자세히보기, 04\\n개발 방법론 & SW\\n자세히보기]|[Part 1.HTML/CSS/JS 기초 : 스타벅스 웹 사이트 UI 클론, Part 2. Git을 활용한 버전관리, Part 3. HTML/CSS/JS 응용 : 애플 아이패드 반응형 웹 사이트, Part 4. JavaScript 마스터 : API로 영화 검색 사이트, Part 5. TypeScript 마스터 : 영화 검색 예제 수정하기, Part 6. React 기본 : 컴포넌트 작성 및 구조와 상태관리 학습, Part 7. React 활용 : 컴포넌트와 다양한 Form 제어 및 테스팅 전략 학습, Part 8. React 심화 : React 기반의 렌더링 이해, Part 9. Next.js13 기본 : SSG 및 Pre-render와 백엔드 통신과 API Routes로 백엔드 로직 개발, Part 10. Next.js13 활용 : SSR 및 데이터 로딩과 React-Query로 데이터 상태 관리, Part 11. Next.js14 기본 : Next 14 새롭게 추가된 기능으로 알아보는 성능 최적화 (streaming, cache), Part 12. Next.js14 활용 : Static Rendering과 Streaming을 활용한 렌더링 최적화, Part 13. Next.js14 심화 : Server Action을 활용하여 효율적으로 form 다루기, Part 14. 프론트엔드 개발 환경의 기초 : 개발 환경 구성 및 관리(번들러, 패키지 매니저, 개발 서버 설정 등), Part 15. 프론트엔드 개발 환경의 실전 : 개발 환경 구성 전략 및 고급 기술 (모노레포 도구, 테스팅 프레임워크 등), Part 16. 기초 웹뷰 개발 : React Native, Part 17. 웹과 앱 통합 : 웹뷰 띄우기, Part 18. 웹과 앱 통신 : 웹 SDK 활용 앱 개발, Part 19. 앱 리소스 활용 : 모바일 디바이스의 마이크 등 활용 개발, Part 20. 웹뷰 앱 배포부터 업데이트까지 모든 것]|[09. JS 선행, ∙ 개요\\n∙ 데이터 종류\\n∙ 변수, 예약어\\n∙ 함수\\n∙ 조건문\\n∙ DOM API (1)\\n∙ DOM API (2)\\n∙ 메소드 체이닝\\n∙ 질의응답]                                                                                                                                                                                                                                                                                                                                                                                                                                                                                                                                                                                                                                                                                                                                                                                                                                                                                                                                                                                                                                                                                                                                                                                                                                                                                                                                            |\n",
            "|2024 시그니처 프론트엔드 : 웹 개발부터 모바일까지 프론트엔드의 모든 것|현재 FE 개발자에게 요구하는 모든 것을 담은 192시간 패스트캠퍼스 프론트엔드 시그니처 강의|사전예약|[프론트엔드, 시그니처, 입문, 기초, 기본, 실전, 리액트, REACT, NEXT.JS, VERCEL, REACTNATIVE, JAVASCRIPT, 웹뷰, 코딩테스트, TYPESCRIPT, 프런트엔드, COPILOT, CHATGPT, 취업, 이직, 빅테크, FRONTEND, SIGNITURE]|https://storage.googleapis.com/static.fastcampus.co.kr/prod/uploads/202405/110514-964/1-2.webp|https://fastcampus.co.kr/dev_online_fesignature|653000       |190000    |[01. 입문-3년차 채용공고 풀커버 커리큘럼\\n20개 이상 프로젝트로 기초부터 프레임워크/개발환경/모바일 대응까지 다룬 국내 유일 강의, 02. FE 개발환경 다양화 반영! 39개 스택\\n다양한 상태관리 라이브러리, 패키지매니저, 번들러 등 프로젝트별 트렌드를 반영해 학습, 03. AI기술 활용법을 익히는 6개 프로젝트\\n챗GPT API를 이해하고 활용하며 개발에 사용하고 AI 도구의 활용 방법까지 익히는 학습 부록 포함, 01\\n데이터베이스\\n자세히보기, 02\\n컴퓨터 네트워크\\n자세히보기, 03\\n컴퓨터 구조\\n자세히보기, 04\\n개발 방법론 & SW\\n자세히보기]|[Part 1.HTML/CSS/JS 기초 : 스타벅스 웹 사이트 UI 클론, Part 2. Git을 활용한 버전관리, Part 3. HTML/CSS/JS 응용 : 애플 아이패드 반응형 웹 사이트, Part 4. JavaScript 마스터 : API로 영화 검색 사이트, Part 5. TypeScript 마스터 : 영화 검색 예제 수정하기, Part 6. React 기본 : 컴포넌트 작성 및 구조와 상태관리 학습, Part 7. React 활용 : 컴포넌트와 다양한 Form 제어 및 테스팅 전략 학습, Part 8. React 심화 : React 기반의 렌더링 이해, Part 9. Next.js13 기본 : SSG 및 Pre-render와 백엔드 통신과 API Routes로 백엔드 로직 개발, Part 10. Next.js13 활용 : SSR 및 데이터 로딩과 React-Query로 데이터 상태 관리, Part 11. Next.js14 기본 : Next 14 새롭게 추가된 기능으로 알아보는 성능 최적화 (streaming, cache), Part 12. Next.js14 활용 : Static Rendering과 Streaming을 활용한 렌더링 최적화, Part 13. Next.js14 심화 : Server Action을 활용하여 효율적으로 form 다루기, Part 14. 프론트엔드 개발 환경의 기초 : 개발 환경 구성 및 관리(번들러, 패키지 매니저, 개발 서버 설정 등), Part 15. 프론트엔드 개발 환경의 실전 : 개발 환경 구성 전략 및 고급 기술 (모노레포 도구, 테스팅 프레임워크 등), Part 16. 기초 웹뷰 개발 : React Native, Part 17. 웹과 앱 통합 : 웹뷰 띄우기, Part 18. 웹과 앱 통신 : 웹 SDK 활용 앱 개발, Part 19. 앱 리소스 활용 : 모바일 디바이스의 마이크 등 활용 개발, Part 20. 웹뷰 앱 배포부터 업데이트까지 모든 것]|[10. 스타벅스 예제, ∙ 시작하기 - 프로젝트 시작, 스타일 초기화, 파비콘\\n∙ 시작하기 - 오픈그래프와 트위터 카드\\n∙ 시작하기 - Google Fonts\\n∙ 시작하기 - Google Material Icons\\n∙ 헤더와 드롭다운 메뉴 - 로고\\n∙ 헤더와 드롭다운 메뉴 - 서브 메뉴\\n∙ 헤더와 드롭다운 메뉴 - 검색\\n∙ 헤더와 드롭다운 메뉴 - 메인 메뉴 (1)\\n∙ 헤더와 드롭다운 메뉴 - 메인 메뉴 (2)\\n∙ 헤더와 드롭다운 메뉴 - BEM\\n∙ 헤더와 드롭다운 메뉴 - 전역 배지(GSAP) (1)\\n∙ 헤더와 드롭다운 메뉴 - 전역 배지(GSAP) (2)\\n∙ 순차적 애니메이션 - 전역 버튼 스타일 (1)\\n∙ 순차적 애니메이션 - 전역 버튼 스타일 (2)\\n∙ 순차적 애니메이션 - 순차적으로 요소 보이기\\n∙ 요소 슬라이드 - 공지사항\\n∙ Swiper.js 라이브러리 버전 확인하기\\n∙ 요소 슬라이드 - 수직 슬라이드(Swiper)\\n∙ 요소 슬라이드 - 요소 가운데 배치\\n∙ 요소 슬라이드 - 프로모션 이미지 슬라이드 (1)\\n∙ 요소 슬라이드 - 프로모션 이미지 슬라이드 (2)\\n∙ 요소 슬라이드 - 슬라이드 영역 토글\\n∙ 유튜브 영상 배경 - 리워즈\\n∙ 유튜브 영상 배경 - Youtube iframe API (1)\\n∙ 유튜브 영상 배경 - Youtube iframe API (2)\\n∙ 유튜브 영상 배경 - 반복 애니메이션\\n∙ 고정 이미지 배경\\n∙ 3D 애니메이션\\n∙ 스크롤 위치 계산 애니메이션 (1)\\n∙ 스크롤 위치 계산 애니메이션 (2)\\n∙ 다중 요소 슬라이드\\n∙ 푸터\\n∙ 페이지 상단으로 이동(ScrollTo)]                                                                                                                                                                                                                  |\n",
            "|2024 시그니처 프론트엔드 : 웹 개발부터 모바일까지 프론트엔드의 모든 것|현재 FE 개발자에게 요구하는 모든 것을 담은 192시간 패스트캠퍼스 프론트엔드 시그니처 강의|사전예약|[프론트엔드, 시그니처, 입문, 기초, 기본, 실전, 리액트, REACT, NEXT.JS, VERCEL, REACTNATIVE, JAVASCRIPT, 웹뷰, 코딩테스트, TYPESCRIPT, 프런트엔드, COPILOT, CHATGPT, 취업, 이직, 빅테크, FRONTEND, SIGNITURE]|https://storage.googleapis.com/static.fastcampus.co.kr/prod/uploads/202405/110514-964/1-2.webp|https://fastcampus.co.kr/dev_online_fesignature|653000       |190000    |[01. 입문-3년차 채용공고 풀커버 커리큘럼\\n20개 이상 프로젝트로 기초부터 프레임워크/개발환경/모바일 대응까지 다룬 국내 유일 강의, 02. FE 개발환경 다양화 반영! 39개 스택\\n다양한 상태관리 라이브러리, 패키지매니저, 번들러 등 프로젝트별 트렌드를 반영해 학습, 03. AI기술 활용법을 익히는 6개 프로젝트\\n챗GPT API를 이해하고 활용하며 개발에 사용하고 AI 도구의 활용 방법까지 익히는 학습 부록 포함, 01\\n데이터베이스\\n자세히보기, 02\\n컴퓨터 네트워크\\n자세히보기, 03\\n컴퓨터 구조\\n자세히보기, 04\\n개발 방법론 & SW\\n자세히보기]|[Part 1.HTML/CSS/JS 기초 : 스타벅스 웹 사이트 UI 클론, Part 2. Git을 활용한 버전관리, Part 3. HTML/CSS/JS 응용 : 애플 아이패드 반응형 웹 사이트, Part 4. JavaScript 마스터 : API로 영화 검색 사이트, Part 5. TypeScript 마스터 : 영화 검색 예제 수정하기, Part 6. React 기본 : 컴포넌트 작성 및 구조와 상태관리 학습, Part 7. React 활용 : 컴포넌트와 다양한 Form 제어 및 테스팅 전략 학습, Part 8. React 심화 : React 기반의 렌더링 이해, Part 9. Next.js13 기본 : SSG 및 Pre-render와 백엔드 통신과 API Routes로 백엔드 로직 개발, Part 10. Next.js13 활용 : SSR 및 데이터 로딩과 React-Query로 데이터 상태 관리, Part 11. Next.js14 기본 : Next 14 새롭게 추가된 기능으로 알아보는 성능 최적화 (streaming, cache), Part 12. Next.js14 활용 : Static Rendering과 Streaming을 활용한 렌더링 최적화, Part 13. Next.js14 심화 : Server Action을 활용하여 효율적으로 form 다루기, Part 14. 프론트엔드 개발 환경의 기초 : 개발 환경 구성 및 관리(번들러, 패키지 매니저, 개발 서버 설정 등), Part 15. 프론트엔드 개발 환경의 실전 : 개발 환경 구성 전략 및 고급 기술 (모노레포 도구, 테스팅 프레임워크 등), Part 16. 기초 웹뷰 개발 : React Native, Part 17. 웹과 앱 통합 : 웹뷰 띄우기, Part 18. 웹과 앱 통신 : 웹 SDK 활용 앱 개발, Part 19. 앱 리소스 활용 : 모바일 디바이스의 마이크 등 활용 개발, Part 20. 웹뷰 앱 배포부터 업데이트까지 모든 것]|[01. 버전관리, ∙ 개요(Git, GitHub)\\n∙ 스타벅스 예제 GitHub 업로드(Push)\\n∙ 버전 생성과 업로드의 이해\\n∙ Netlify 지속적인 배포\\n∙ 수정사항 버전 생성(Commit)\\n∙ 로그인 브랜치(Branch)\\n∙ 로그인 페이지 개발(1)\\n∙ 로그인 페이지 개발(2)\\n∙ 로그인 브랜치 병합(Pull Request)\\n∙ 프로젝트 복제(Clone)\\n∙ 연습-버전 되돌리기(Reset)\\n∙ 연습-다른 환경에서 시작하기\\n∙ 연습-충돌(Conflict), 로컬 병합(Merge)\\n∙ master에서 main으로 브랜치 변경\\n∙ 버전 관리하지 않을 폴더 및 파일 설정(.gitignore)\\n∙ Git 브랜치 전략 - Git Flow 개요\\n∙ Git 브랜치 전략 - Git Flow 예제]                                                                                                                                                                                                                                                                                                                                                                                                                                                                                                                                                                                                                                                                                                                                                                                                                                                             |\n",
            "|2024 시그니처 프론트엔드 : 웹 개발부터 모바일까지 프론트엔드의 모든 것|현재 FE 개발자에게 요구하는 모든 것을 담은 192시간 패스트캠퍼스 프론트엔드 시그니처 강의|사전예약|[프론트엔드, 시그니처, 입문, 기초, 기본, 실전, 리액트, REACT, NEXT.JS, VERCEL, REACTNATIVE, JAVASCRIPT, 웹뷰, 코딩테스트, TYPESCRIPT, 프런트엔드, COPILOT, CHATGPT, 취업, 이직, 빅테크, FRONTEND, SIGNITURE]|https://storage.googleapis.com/static.fastcampus.co.kr/prod/uploads/202405/110514-964/1-2.webp|https://fastcampus.co.kr/dev_online_fesignature|653000       |190000    |[01. 입문-3년차 채용공고 풀커버 커리큘럼\\n20개 이상 프로젝트로 기초부터 프레임워크/개발환경/모바일 대응까지 다룬 국내 유일 강의, 02. FE 개발환경 다양화 반영! 39개 스택\\n다양한 상태관리 라이브러리, 패키지매니저, 번들러 등 프로젝트별 트렌드를 반영해 학습, 03. AI기술 활용법을 익히는 6개 프로젝트\\n챗GPT API를 이해하고 활용하며 개발에 사용하고 AI 도구의 활용 방법까지 익히는 학습 부록 포함, 01\\n데이터베이스\\n자세히보기, 02\\n컴퓨터 네트워크\\n자세히보기, 03\\n컴퓨터 구조\\n자세히보기, 04\\n개발 방법론 & SW\\n자세히보기]|[Part 1.HTML/CSS/JS 기초 : 스타벅스 웹 사이트 UI 클론, Part 2. Git을 활용한 버전관리, Part 3. HTML/CSS/JS 응용 : 애플 아이패드 반응형 웹 사이트, Part 4. JavaScript 마스터 : API로 영화 검색 사이트, Part 5. TypeScript 마스터 : 영화 검색 예제 수정하기, Part 6. React 기본 : 컴포넌트 작성 및 구조와 상태관리 학습, Part 7. React 활용 : 컴포넌트와 다양한 Form 제어 및 테스팅 전략 학습, Part 8. React 심화 : React 기반의 렌더링 이해, Part 9. Next.js13 기본 : SSG 및 Pre-render와 백엔드 통신과 API Routes로 백엔드 로직 개발, Part 10. Next.js13 활용 : SSR 및 데이터 로딩과 React-Query로 데이터 상태 관리, Part 11. Next.js14 기본 : Next 14 새롭게 추가된 기능으로 알아보는 성능 최적화 (streaming, cache), Part 12. Next.js14 활용 : Static Rendering과 Streaming을 활용한 렌더링 최적화, Part 13. Next.js14 심화 : Server Action을 활용하여 효율적으로 form 다루기, Part 14. 프론트엔드 개발 환경의 기초 : 개발 환경 구성 및 관리(번들러, 패키지 매니저, 개발 서버 설정 등), Part 15. 프론트엔드 개발 환경의 실전 : 개발 환경 구성 전략 및 고급 기술 (모노레포 도구, 테스팅 프레임워크 등), Part 16. 기초 웹뷰 개발 : React Native, Part 17. 웹과 앱 통합 : 웹뷰 띄우기, Part 18. 웹과 앱 통신 : 웹 SDK 활용 앱 개발, Part 19. 앱 리소스 활용 : 모바일 디바이스의 마이크 등 활용 개발, Part 20. 웹뷰 앱 배포부터 업데이트까지 모든 것]|[02. 마크다운, ∙ 개요\\n∙ 제목, 문장, 줄바꿈\\n∙ 강조, 목록\\n∙ 링크, 이미지\\n∙ 인용문, 코드 강조\\n∙ 표\\n∙ 원시 HTML, 수평선\\n∙ 원격 저장소에 Push]                                                                                                                                                                                                                                                                                                                                                                                                                                                                                                                                                                                                                                                                                                                                                                                                                                                                                                                                                                                                                                                                                                                                                                                                                                                                                                                             |\n",
            "|2024 시그니처 프론트엔드 : 웹 개발부터 모바일까지 프론트엔드의 모든 것|현재 FE 개발자에게 요구하는 모든 것을 담은 192시간 패스트캠퍼스 프론트엔드 시그니처 강의|사전예약|[프론트엔드, 시그니처, 입문, 기초, 기본, 실전, 리액트, REACT, NEXT.JS, VERCEL, REACTNATIVE, JAVASCRIPT, 웹뷰, 코딩테스트, TYPESCRIPT, 프런트엔드, COPILOT, CHATGPT, 취업, 이직, 빅테크, FRONTEND, SIGNITURE]|https://storage.googleapis.com/static.fastcampus.co.kr/prod/uploads/202405/110514-964/1-2.webp|https://fastcampus.co.kr/dev_online_fesignature|653000       |190000    |[01. 입문-3년차 채용공고 풀커버 커리큘럼\\n20개 이상 프로젝트로 기초부터 프레임워크/개발환경/모바일 대응까지 다룬 국내 유일 강의, 02. FE 개발환경 다양화 반영! 39개 스택\\n다양한 상태관리 라이브러리, 패키지매니저, 번들러 등 프로젝트별 트렌드를 반영해 학습, 03. AI기술 활용법을 익히는 6개 프로젝트\\n챗GPT API를 이해하고 활용하며 개발에 사용하고 AI 도구의 활용 방법까지 익히는 학습 부록 포함, 01\\n데이터베이스\\n자세히보기, 02\\n컴퓨터 네트워크\\n자세히보기, 03\\n컴퓨터 구조\\n자세히보기, 04\\n개발 방법론 & SW\\n자세히보기]|[Part 1.HTML/CSS/JS 기초 : 스타벅스 웹 사이트 UI 클론, Part 2. Git을 활용한 버전관리, Part 3. HTML/CSS/JS 응용 : 애플 아이패드 반응형 웹 사이트, Part 4. JavaScript 마스터 : API로 영화 검색 사이트, Part 5. TypeScript 마스터 : 영화 검색 예제 수정하기, Part 6. React 기본 : 컴포넌트 작성 및 구조와 상태관리 학습, Part 7. React 활용 : 컴포넌트와 다양한 Form 제어 및 테스팅 전략 학습, Part 8. React 심화 : React 기반의 렌더링 이해, Part 9. Next.js13 기본 : SSG 및 Pre-render와 백엔드 통신과 API Routes로 백엔드 로직 개발, Part 10. Next.js13 활용 : SSR 및 데이터 로딩과 React-Query로 데이터 상태 관리, Part 11. Next.js14 기본 : Next 14 새롭게 추가된 기능으로 알아보는 성능 최적화 (streaming, cache), Part 12. Next.js14 활용 : Static Rendering과 Streaming을 활용한 렌더링 최적화, Part 13. Next.js14 심화 : Server Action을 활용하여 효율적으로 form 다루기, Part 14. 프론트엔드 개발 환경의 기초 : 개발 환경 구성 및 관리(번들러, 패키지 매니저, 개발 서버 설정 등), Part 15. 프론트엔드 개발 환경의 실전 : 개발 환경 구성 전략 및 고급 기술 (모노레포 도구, 테스팅 프레임워크 등), Part 16. 기초 웹뷰 개발 : React Native, Part 17. 웹과 앱 통합 : 웹뷰 띄우기, Part 18. 웹과 앱 통신 : 웹 SDK 활용 앱 개발, Part 19. 앱 리소스 활용 : 모바일 디바이스의 마이크 등 활용 개발, Part 20. 웹뷰 앱 배포부터 업데이트까지 모든 것]|[01. 데스크탑 모드로 개발, ∙ 시작하기 - 소개\\n∙ 시작하기 - 프로젝트 초기화\\n∙ 시작하기 - 웹 폰트 적용과 단어 단위 줄바꿈\\n∙ 헤더 - 기본 구성\\n∙ 헤더 - CSS 배경 이미지와 대체 텍스트\\n∙ 헤더 - 장바구니 드롭다운 메뉴 스타일\\n∙ 헤더 - 장바구니 드롭다운 메뉴 스크립트\\n∙ 헤더 - 장바구니 드롭다운 메뉴 애니메이션\\n∙ 헤더 - 검색 바 스타일\\n∙ 헤더 - 검색 바 스크립트\\n∙ 헤더 - 검색 바 애니메이션\\n∙ 헤더 - 검색 포커스 및 값 비우기\\n∙ 내비게이션 사용 기술 정리\\n∙ 내비게이션 구성\\n∙ Hero 콘텐츠 구성\\n∙ 이미지 선택 및 드래그 방지, 공급 업체 접두사 확인\\n∙ Hero 콘텐츠 기본 스타일\\n∙ Figures 공통 스타일\\n∙ CSS 변수\\n∙ Power 섹션 - 기본 구성\\n∙ Feature / Infos 공통 스타일\\n∙ Sprite Image\\n∙ CSS 애니메이션과 @keyframes\\n∙ Sprite Image 애니메이션, JS 반복문 기초\\n∙ JS Intersection Observer(요소의 가시성 관찰)\\n∙ Display 섹션\\n∙ Camera 섹션\\n∙ Video 추가 및 제어\\n∙ Wireless 섹션\\n∙ Accessories 섹션\\n∙ iPadOS 섹션\\n∙ Apps 섹션\\n∙ Privacy 섹션\\n∙ Accessibility 섹션\\n∙ Whitebox 공통 스타일\\n∙ AR, Environment 섹션\\n∙ Accessory Shop, Trade 섹션\\n∙ Compare 섹션, Comment tagged templates 확장 프로그램\\n∙ 푸터 - 구입 정보\\n∙ 푸터 - 주의사항 각주(Footnote)\\n∙ 푸터 - 사이트 이동 경로(Breadcrumbs)\\n∙ 푸터 - JS 데이터 기반 내비게이션 표시\\n∙ 푸터 - 기타 정보와 날짜 표시, 화면 넘침 제어\\n∙ GitHub 저장소 업로드 및 Vercel 배포]|\n",
            "|2024 시그니처 프론트엔드 : 웹 개발부터 모바일까지 프론트엔드의 모든 것|현재 FE 개발자에게 요구하는 모든 것을 담은 192시간 패스트캠퍼스 프론트엔드 시그니처 강의|사전예약|[프론트엔드, 시그니처, 입문, 기초, 기본, 실전, 리액트, REACT, NEXT.JS, VERCEL, REACTNATIVE, JAVASCRIPT, 웹뷰, 코딩테스트, TYPESCRIPT, 프런트엔드, COPILOT, CHATGPT, 취업, 이직, 빅테크, FRONTEND, SIGNITURE]|https://storage.googleapis.com/static.fastcampus.co.kr/prod/uploads/202405/110514-964/1-2.webp|https://fastcampus.co.kr/dev_online_fesignature|653000       |190000    |[01. 입문-3년차 채용공고 풀커버 커리큘럼\\n20개 이상 프로젝트로 기초부터 프레임워크/개발환경/모바일 대응까지 다룬 국내 유일 강의, 02. FE 개발환경 다양화 반영! 39개 스택\\n다양한 상태관리 라이브러리, 패키지매니저, 번들러 등 프로젝트별 트렌드를 반영해 학습, 03. AI기술 활용법을 익히는 6개 프로젝트\\n챗GPT API를 이해하고 활용하며 개발에 사용하고 AI 도구의 활용 방법까지 익히는 학습 부록 포함, 01\\n데이터베이스\\n자세히보기, 02\\n컴퓨터 네트워크\\n자세히보기, 03\\n컴퓨터 구조\\n자세히보기, 04\\n개발 방법론 & SW\\n자세히보기]|[Part 1.HTML/CSS/JS 기초 : 스타벅스 웹 사이트 UI 클론, Part 2. Git을 활용한 버전관리, Part 3. HTML/CSS/JS 응용 : 애플 아이패드 반응형 웹 사이트, Part 4. JavaScript 마스터 : API로 영화 검색 사이트, Part 5. TypeScript 마스터 : 영화 검색 예제 수정하기, Part 6. React 기본 : 컴포넌트 작성 및 구조와 상태관리 학습, Part 7. React 활용 : 컴포넌트와 다양한 Form 제어 및 테스팅 전략 학습, Part 8. React 심화 : React 기반의 렌더링 이해, Part 9. Next.js13 기본 : SSG 및 Pre-render와 백엔드 통신과 API Routes로 백엔드 로직 개발, Part 10. Next.js13 활용 : SSR 및 데이터 로딩과 React-Query로 데이터 상태 관리, Part 11. Next.js14 기본 : Next 14 새롭게 추가된 기능으로 알아보는 성능 최적화 (streaming, cache), Part 12. Next.js14 활용 : Static Rendering과 Streaming을 활용한 렌더링 최적화, Part 13. Next.js14 심화 : Server Action을 활용하여 효율적으로 form 다루기, Part 14. 프론트엔드 개발 환경의 기초 : 개발 환경 구성 및 관리(번들러, 패키지 매니저, 개발 서버 설정 등), Part 15. 프론트엔드 개발 환경의 실전 : 개발 환경 구성 전략 및 고급 기술 (모노레포 도구, 테스팅 프레임워크 등), Part 16. 기초 웹뷰 개발 : React Native, Part 17. 웹과 앱 통합 : 웹뷰 띄우기, Part 18. 웹과 앱 통신 : 웹 SDK 활용 앱 개발, Part 19. 앱 리소스 활용 : 모바일 디바이스의 마이크 등 활용 개발, Part 20. 웹뷰 앱 배포부터 업데이트까지 모든 것]|[02. 태블릿/모바일 모드로 개발, ∙ 반응형 레이아웃을 위한 CSS @media와 Breakpoints(중단점) 설정\\n∙ 헤더 - 메뉴 버튼 토글과 배경 처리\\n∙ 헤더 - 검색 표시와 메뉴 목록\\n∙ 헤더 - 검색 시작과 취소 기능, 최적화\\n∙ 내비게이션 메뉴 토글\\n∙ Hero 콘텐츠\\n∙ Power 섹션\\n∙ Display 섹션\\n∙ Camera 섹션\\n∙ Wireless 섹션\\n∙ Accessories 섹션\\n∙ iPadOS 섹션\\n∙ Apps 섹션\\n∙ Privacy 섹션\\n∙ Accessibility 섹션\\n∙ Whitebox 공통 스타일과 AR 섹션\\n∙ 기타 섹션\\n∙ 푸터 섹션, 아코디언 메뉴\\n∙ 최종 푸쉬 및 배포 확인]                                                                                                                                                                                                                                                                                                                                                                                                                                                                                                                                                                                                                                                                                                                                                                                                              |\n",
            "|2024 시그니처 프론트엔드 : 웹 개발부터 모바일까지 프론트엔드의 모든 것|현재 FE 개발자에게 요구하는 모든 것을 담은 192시간 패스트캠퍼스 프론트엔드 시그니처 강의|사전예약|[프론트엔드, 시그니처, 입문, 기초, 기본, 실전, 리액트, REACT, NEXT.JS, VERCEL, REACTNATIVE, JAVASCRIPT, 웹뷰, 코딩테스트, TYPESCRIPT, 프런트엔드, COPILOT, CHATGPT, 취업, 이직, 빅테크, FRONTEND, SIGNITURE]|https://storage.googleapis.com/static.fastcampus.co.kr/prod/uploads/202405/110514-964/1-2.webp|https://fastcampus.co.kr/dev_online_fesignature|653000       |190000    |[01. 입문-3년차 채용공고 풀커버 커리큘럼\\n20개 이상 프로젝트로 기초부터 프레임워크/개발환경/모바일 대응까지 다룬 국내 유일 강의, 02. FE 개발환경 다양화 반영! 39개 스택\\n다양한 상태관리 라이브러리, 패키지매니저, 번들러 등 프로젝트별 트렌드를 반영해 학습, 03. AI기술 활용법을 익히는 6개 프로젝트\\n챗GPT API를 이해하고 활용하며 개발에 사용하고 AI 도구의 활용 방법까지 익히는 학습 부록 포함, 01\\n데이터베이스\\n자세히보기, 02\\n컴퓨터 네트워크\\n자세히보기, 03\\n컴퓨터 구조\\n자세히보기, 04\\n개발 방법론 & SW\\n자세히보기]|[Part 1.HTML/CSS/JS 기초 : 스타벅스 웹 사이트 UI 클론, Part 2. Git을 활용한 버전관리, Part 3. HTML/CSS/JS 응용 : 애플 아이패드 반응형 웹 사이트, Part 4. JavaScript 마스터 : API로 영화 검색 사이트, Part 5. TypeScript 마스터 : 영화 검색 예제 수정하기, Part 6. React 기본 : 컴포넌트 작성 및 구조와 상태관리 학습, Part 7. React 활용 : 컴포넌트와 다양한 Form 제어 및 테스팅 전략 학습, Part 8. React 심화 : React 기반의 렌더링 이해, Part 9. Next.js13 기본 : SSG 및 Pre-render와 백엔드 통신과 API Routes로 백엔드 로직 개발, Part 10. Next.js13 활용 : SSR 및 데이터 로딩과 React-Query로 데이터 상태 관리, Part 11. Next.js14 기본 : Next 14 새롭게 추가된 기능으로 알아보는 성능 최적화 (streaming, cache), Part 12. Next.js14 활용 : Static Rendering과 Streaming을 활용한 렌더링 최적화, Part 13. Next.js14 심화 : Server Action을 활용하여 효율적으로 form 다루기, Part 14. 프론트엔드 개발 환경의 기초 : 개발 환경 구성 및 관리(번들러, 패키지 매니저, 개발 서버 설정 등), Part 15. 프론트엔드 개발 환경의 실전 : 개발 환경 구성 전략 및 고급 기술 (모노레포 도구, 테스팅 프레임워크 등), Part 16. 기초 웹뷰 개발 : React Native, Part 17. 웹과 앱 통합 : 웹뷰 띄우기, Part 18. 웹과 앱 통신 : 웹 SDK 활용 앱 개발, Part 19. 앱 리소스 활용 : 모바일 디바이스의 마이크 등 활용 개발, Part 20. 웹뷰 앱 배포부터 업데이트까지 모든 것]|[01. NodeJS, ∙ 개요 및 설치\\n∙ NPM 개요\\n∙ NPM 프로젝트 시작, package.json\\n∙ Parcel, 개발 서버 실행과 빌드\\n∙ 유의적 버전(Semver)]                                                                                                                                                                                                                                                                                                                                                                                                                                                                                                                                                                                                                                                                                                                                                                                                                                                                                                                                                                                                                                                                                                                                                                                                                                                                                                                             |\n",
            "|2024 시그니처 프론트엔드 : 웹 개발부터 모바일까지 프론트엔드의 모든 것|현재 FE 개발자에게 요구하는 모든 것을 담은 192시간 패스트캠퍼스 프론트엔드 시그니처 강의|사전예약|[프론트엔드, 시그니처, 입문, 기초, 기본, 실전, 리액트, REACT, NEXT.JS, VERCEL, REACTNATIVE, JAVASCRIPT, 웹뷰, 코딩테스트, TYPESCRIPT, 프런트엔드, COPILOT, CHATGPT, 취업, 이직, 빅테크, FRONTEND, SIGNITURE]|https://storage.googleapis.com/static.fastcampus.co.kr/prod/uploads/202405/110514-964/1-2.webp|https://fastcampus.co.kr/dev_online_fesignature|653000       |190000    |[01. 입문-3년차 채용공고 풀커버 커리큘럼\\n20개 이상 프로젝트로 기초부터 프레임워크/개발환경/모바일 대응까지 다룬 국내 유일 강의, 02. FE 개발환경 다양화 반영! 39개 스택\\n다양한 상태관리 라이브러리, 패키지매니저, 번들러 등 프로젝트별 트렌드를 반영해 학습, 03. AI기술 활용법을 익히는 6개 프로젝트\\n챗GPT API를 이해하고 활용하며 개발에 사용하고 AI 도구의 활용 방법까지 익히는 학습 부록 포함, 01\\n데이터베이스\\n자세히보기, 02\\n컴퓨터 네트워크\\n자세히보기, 03\\n컴퓨터 구조\\n자세히보기, 04\\n개발 방법론 & SW\\n자세히보기]|[Part 1.HTML/CSS/JS 기초 : 스타벅스 웹 사이트 UI 클론, Part 2. Git을 활용한 버전관리, Part 3. HTML/CSS/JS 응용 : 애플 아이패드 반응형 웹 사이트, Part 4. JavaScript 마스터 : API로 영화 검색 사이트, Part 5. TypeScript 마스터 : 영화 검색 예제 수정하기, Part 6. React 기본 : 컴포넌트 작성 및 구조와 상태관리 학습, Part 7. React 활용 : 컴포넌트와 다양한 Form 제어 및 테스팅 전략 학습, Part 8. React 심화 : React 기반의 렌더링 이해, Part 9. Next.js13 기본 : SSG 및 Pre-render와 백엔드 통신과 API Routes로 백엔드 로직 개발, Part 10. Next.js13 활용 : SSR 및 데이터 로딩과 React-Query로 데이터 상태 관리, Part 11. Next.js14 기본 : Next 14 새롭게 추가된 기능으로 알아보는 성능 최적화 (streaming, cache), Part 12. Next.js14 활용 : Static Rendering과 Streaming을 활용한 렌더링 최적화, Part 13. Next.js14 심화 : Server Action을 활용하여 효율적으로 form 다루기, Part 14. 프론트엔드 개발 환경의 기초 : 개발 환경 구성 및 관리(번들러, 패키지 매니저, 개발 서버 설정 등), Part 15. 프론트엔드 개발 환경의 실전 : 개발 환경 구성 전략 및 고급 기술 (모노레포 도구, 테스팅 프레임워크 등), Part 16. 기초 웹뷰 개발 : React Native, Part 17. 웹과 앱 통합 : 웹뷰 띄우기, Part 18. 웹과 앱 통신 : 웹 SDK 활용 앱 개발, Part 19. 앱 리소스 활용 : 모바일 디바이스의 마이크 등 활용 개발, Part 20. 웹뷰 앱 배포부터 업데이트까지 모든 것]|[02. JS 데이터, ∙ 개요 및 프로젝트 구성\\n∙ 원시형 - String, Number\\n∙ 원시형 - Boolean, null, undefined\\n∙ 참조형 - Array\\n∙ 참조형 - Object\\n∙ 참조형 - Function\\n∙ 형 변환(Type Conversion)\\n∙ 참과 거짓(Truthy & Falsy)\\n∙ 데이터 타입 확인]                                                                                                                                                                                                                                                                                                                                                                                                                                                                                                                                                                                                                                                                                                                                                                                                                                                                                                                                                                                                                                                                                                                                                                                                                              |\n",
            "|2024 시그니처 프론트엔드 : 웹 개발부터 모바일까지 프론트엔드의 모든 것|현재 FE 개발자에게 요구하는 모든 것을 담은 192시간 패스트캠퍼스 프론트엔드 시그니처 강의|사전예약|[프론트엔드, 시그니처, 입문, 기초, 기본, 실전, 리액트, REACT, NEXT.JS, VERCEL, REACTNATIVE, JAVASCRIPT, 웹뷰, 코딩테스트, TYPESCRIPT, 프런트엔드, COPILOT, CHATGPT, 취업, 이직, 빅테크, FRONTEND, SIGNITURE]|https://storage.googleapis.com/static.fastcampus.co.kr/prod/uploads/202405/110514-964/1-2.webp|https://fastcampus.co.kr/dev_online_fesignature|653000       |190000    |[01. 입문-3년차 채용공고 풀커버 커리큘럼\\n20개 이상 프로젝트로 기초부터 프레임워크/개발환경/모바일 대응까지 다룬 국내 유일 강의, 02. FE 개발환경 다양화 반영! 39개 스택\\n다양한 상태관리 라이브러리, 패키지매니저, 번들러 등 프로젝트별 트렌드를 반영해 학습, 03. AI기술 활용법을 익히는 6개 프로젝트\\n챗GPT API를 이해하고 활용하며 개발에 사용하고 AI 도구의 활용 방법까지 익히는 학습 부록 포함, 01\\n데이터베이스\\n자세히보기, 02\\n컴퓨터 네트워크\\n자세히보기, 03\\n컴퓨터 구조\\n자세히보기, 04\\n개발 방법론 & SW\\n자세히보기]|[Part 1.HTML/CSS/JS 기초 : 스타벅스 웹 사이트 UI 클론, Part 2. Git을 활용한 버전관리, Part 3. HTML/CSS/JS 응용 : 애플 아이패드 반응형 웹 사이트, Part 4. JavaScript 마스터 : API로 영화 검색 사이트, Part 5. TypeScript 마스터 : 영화 검색 예제 수정하기, Part 6. React 기본 : 컴포넌트 작성 및 구조와 상태관리 학습, Part 7. React 활용 : 컴포넌트와 다양한 Form 제어 및 테스팅 전략 학습, Part 8. React 심화 : React 기반의 렌더링 이해, Part 9. Next.js13 기본 : SSG 및 Pre-render와 백엔드 통신과 API Routes로 백엔드 로직 개발, Part 10. Next.js13 활용 : SSR 및 데이터 로딩과 React-Query로 데이터 상태 관리, Part 11. Next.js14 기본 : Next 14 새롭게 추가된 기능으로 알아보는 성능 최적화 (streaming, cache), Part 12. Next.js14 활용 : Static Rendering과 Streaming을 활용한 렌더링 최적화, Part 13. Next.js14 심화 : Server Action을 활용하여 효율적으로 form 다루기, Part 14. 프론트엔드 개발 환경의 기초 : 개발 환경 구성 및 관리(번들러, 패키지 매니저, 개발 서버 설정 등), Part 15. 프론트엔드 개발 환경의 실전 : 개발 환경 구성 전략 및 고급 기술 (모노레포 도구, 테스팅 프레임워크 등), Part 16. 기초 웹뷰 개발 : React Native, Part 17. 웹과 앱 통합 : 웹뷰 띄우기, Part 18. 웹과 앱 통신 : 웹 SDK 활용 앱 개발, Part 19. 앱 리소스 활용 : 모바일 디바이스의 마이크 등 활용 개발, Part 20. 웹뷰 앱 배포부터 업데이트까지 모든 것]|[03. 연산자와 구문, ∙ 산술, 할당, 증감 연산자\\n∙ 부정, 비교 연산자\\n∙ 논리 연산자\\n∙ Nullish 병합, 삼항 연산자\\n∙ 전개 연산자\\n∙ 구조 분해 할당\\n∙ 선택적 체이닝\\n∙ If , Switch 조건문\\n∙ For, For of, For in 반복문\\n∙ While, Do while 반복문]                                                                                                                                                                                                                                                                                                                                                                                                                                                                                                                                                                                                                                                                                                                                                                                                                                                                                                                                                                                                                                                                                                                                                                                                                              |\n",
            "|2024 시그니처 프론트엔드 : 웹 개발부터 모바일까지 프론트엔드의 모든 것|현재 FE 개발자에게 요구하는 모든 것을 담은 192시간 패스트캠퍼스 프론트엔드 시그니처 강의|사전예약|[프론트엔드, 시그니처, 입문, 기초, 기본, 실전, 리액트, REACT, NEXT.JS, VERCEL, REACTNATIVE, JAVASCRIPT, 웹뷰, 코딩테스트, TYPESCRIPT, 프런트엔드, COPILOT, CHATGPT, 취업, 이직, 빅테크, FRONTEND, SIGNITURE]|https://storage.googleapis.com/static.fastcampus.co.kr/prod/uploads/202405/110514-964/1-2.webp|https://fastcampus.co.kr/dev_online_fesignature|653000       |190000    |[01. 입문-3년차 채용공고 풀커버 커리큘럼\\n20개 이상 프로젝트로 기초부터 프레임워크/개발환경/모바일 대응까지 다룬 국내 유일 강의, 02. FE 개발환경 다양화 반영! 39개 스택\\n다양한 상태관리 라이브러리, 패키지매니저, 번들러 등 프로젝트별 트렌드를 반영해 학습, 03. AI기술 활용법을 익히는 6개 프로젝트\\n챗GPT API를 이해하고 활용하며 개발에 사용하고 AI 도구의 활용 방법까지 익히는 학습 부록 포함, 01\\n데이터베이스\\n자세히보기, 02\\n컴퓨터 네트워크\\n자세히보기, 03\\n컴퓨터 구조\\n자세히보기, 04\\n개발 방법론 & SW\\n자세히보기]|[Part 1.HTML/CSS/JS 기초 : 스타벅스 웹 사이트 UI 클론, Part 2. Git을 활용한 버전관리, Part 3. HTML/CSS/JS 응용 : 애플 아이패드 반응형 웹 사이트, Part 4. JavaScript 마스터 : API로 영화 검색 사이트, Part 5. TypeScript 마스터 : 영화 검색 예제 수정하기, Part 6. React 기본 : 컴포넌트 작성 및 구조와 상태관리 학습, Part 7. React 활용 : 컴포넌트와 다양한 Form 제어 및 테스팅 전략 학습, Part 8. React 심화 : React 기반의 렌더링 이해, Part 9. Next.js13 기본 : SSG 및 Pre-render와 백엔드 통신과 API Routes로 백엔드 로직 개발, Part 10. Next.js13 활용 : SSR 및 데이터 로딩과 React-Query로 데이터 상태 관리, Part 11. Next.js14 기본 : Next 14 새롭게 추가된 기능으로 알아보는 성능 최적화 (streaming, cache), Part 12. Next.js14 활용 : Static Rendering과 Streaming을 활용한 렌더링 최적화, Part 13. Next.js14 심화 : Server Action을 활용하여 효율적으로 form 다루기, Part 14. 프론트엔드 개발 환경의 기초 : 개발 환경 구성 및 관리(번들러, 패키지 매니저, 개발 서버 설정 등), Part 15. 프론트엔드 개발 환경의 실전 : 개발 환경 구성 전략 및 고급 기술 (모노레포 도구, 테스팅 프레임워크 등), Part 16. 기초 웹뷰 개발 : React Native, Part 17. 웹과 앱 통합 : 웹뷰 띄우기, Part 18. 웹과 앱 통신 : 웹 SDK 활용 앱 개발, Part 19. 앱 리소스 활용 : 모바일 디바이스의 마이크 등 활용 개발, Part 20. 웹뷰 앱 배포부터 업데이트까지 모든 것]|[04. 함수, ∙ 선언과 표현 그리고 호이스팅\\n∙ 반환 및 종료\\n∙ 매개변수 패턴\\n∙ 화살표 함수\\n∙ 즉시실행함수(IIFE)\\n∙ 콜백\\n∙ 재귀\\n∙ 호출 스케줄링\\n∙ this]                                                                                                                                                                                                                                                                                                                                                                                                                                                                                                                                                                                                                                                                                                                                                                                                                                                                                                                                                                                                                                                                                                                                                                                                                                                                                                                     |\n",
            "+----------------------------------------------------------------------+----------------------------------------------------------------------------------------+--------+------------------------------------------------------------------------------------------------------------------------------------------------------------------------------------------------------------+----------------------------------------------------------------------------------------------+-----------------------------------------------+-------------+----------+---------------------------------------------------------------------------------------------------------------------------------------------------------------------------------------------------------------------------------------------------------------------------------------------------------------------------------------------------------------------------------------------------------------------------------------------------------------------------------------------------------------------------------+--------------------------------------------------------------------------------------------------------------------------------------------------------------------------------------------------------------------------------------------------------------------------------------------------------------------------------------------------------------------------------------------------------------------------------------------------------------------------------------------------------------------------------------------------------------------------------------------------------------------------------------------------------------------------------------------------------------------------------------------------------------------------------------------------------------------------------------------------------------------------------------------------------------------------------------------------------------------------------------------------------------------------------------------------------------------------------------------------------------------------------------------------------------------------------------------------------------------------------------------------------------------------------------------------------------------------------------------------+-----------------------------------------------------------------------------------------------------------------------------------------------------------------------------------------------------------------------------------------------------------------------------------------------------------------------------------------------------------------------------------------------------------------------------------------------------------------------------------------------------------------------------------------------------------------------------------------------------------------------------------------------------------------------------------------------------------------------------------------------------------------------------------------------------------------------------------------------------------------------------------------------------------------------------------------------------------------------------------------------------------------------------------------------------------------------------------------------------------------------------------------------------------------------------------------------------------------------------------------------------------------------------------------------------------------------------------------------------------------------------------------------------------------------------------------------------------------------------+\n",
            "only showing top 20 rows\n",
            "\n"
          ]
        }
      ]
    }
  ]
}